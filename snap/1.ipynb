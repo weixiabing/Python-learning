{
 "cells": [
  {
   "cell_type": "code",
   "execution_count": 39,
   "metadata": {},
   "outputs": [],
   "source": [
    "import json\n",
    "# 读取 json 文件\n",
    "with open('CollectionState.json', 'r',encoding='utf-8-sig') as f:\n",
    "    data = f.read()\n",
    "    f.close()\n",
    "#删除空格\n",
    "#对json文件格式化解码\n",
    "data = json.loads(data)\n"
   ]
  },
  {
   "cell_type": "code",
   "execution_count": 40,
   "metadata": {},
   "outputs": [
    {
     "name": "stdout",
     "output_type": "stream",
     "text": [
      "dict_keys(['ServerState', 'ClientState'])\n",
      "dict_keys(['Account', 'Decks', 'Cards', 'CardBacks', 'CardDefStats', 'ClaimedAlbumRewards', 'CollectionScore', 'CollectionScoreRewardDefIdsClaimed'])\n",
      "155\n",
      "125\n"
     ]
    }
   ],
   "source": [
    "#查看data文件的结构\n",
    "print(data.keys())\n",
    "print(data['ServerState'].keys())\n",
    "#统计data['ServerState']['Cards']的对象个数\n",
    "print(len(data['ServerState']['Cards']))\n",
    "#判断data['ServerState']['Cards']的对象中是否有相同的CardDefId属性\n",
    "print(len(set([i['CardDefId'] for i in data['ServerState']['Cards']])))\n",
    "#打印data['ServerState']['Cards']的所有对象的CardDefId值\n",
    "#print([i['CardDefId'] for i in data['ServerState']['Cards']])\n"
   ]
  },
  {
   "cell_type": "code",
   "execution_count": 41,
   "metadata": {},
   "outputs": [
    {
     "name": "stdout",
     "output_type": "stream",
     "text": [
      "28\n"
     ]
    }
   ],
   "source": [
    "#读取cards_dict.json文件\n",
    "with open('cards_dict.json', 'r',encoding='utf-8-sig') as f:\n",
    "    cards_dict = f.read()\n",
    "    cards_dict = json.loads(cards_dict)\n",
    "    f.close()\n",
    "\n",
    "#统计data['ServerState']['Cards']的对象属性CardDefId的值在cards_dict[pool-5]中的个数\n",
    "print(len([i for i in set([i['CardDefId'] for i in data['ServerState']['Cards']]) if i in cards_dict['pool-3']]))\n",
    "\n"
   ]
  },
  {
   "cell_type": "code",
   "execution_count": 42,
   "metadata": {},
   "outputs": [
    {
     "name": "stdout",
     "output_type": "stream",
     "text": [
      "155\n",
      "46\n",
      "0\n"
     ]
    }
   ],
   "source": [
    "data['ServerState']['Cards'][0]['CardDefId']\n",
    "set([i for i in cards_dict['pool-1']])\n",
    "#data['ServerState']['Cards'][i]['CardDefId']\n",
    "#for i in len(data['ServerState']['Cards']):\\\n",
    "#统计data['ServerState']['Cards']的对象个数\n",
    "print(len(data['ServerState']['Cards']))\n",
    "cards=set()\n",
    "cards1=set()\n",
    "cards=[i for i in set([i['CardDefId'] for i in data['ServerState']['Cards']]) if i in cards_dict[list]] \n",
    "print(len(cards))\n",
    "#统计cards_dict['pool-1']不在cards中的个数\n",
    "print(len([i for i in cards_dict['pool-1'] if i not in cards]))\n"
   ]
  },
  {
   "cell_type": "code",
   "execution_count": 35,
   "metadata": {},
   "outputs": [
    {
     "ename": "FileNotFoundError",
     "evalue": "[Errno 2] No such file or directory: 'assets/pool-3/Carnage.webp'",
     "output_type": "error",
     "traceback": [
      "\u001b[1;31m---------------------------------------------------------------------------\u001b[0m",
      "\u001b[1;31mFileNotFoundError\u001b[0m                         Traceback (most recent call last)",
      "\u001b[1;32md:\\library\\Github\\Python-learning\\snap\\1.ipynb Cell 7\u001b[0m in \u001b[0;36m<module>\u001b[1;34m\u001b[0m\n\u001b[0;32m     <a href='vscode-notebook-cell:/d%3A/library/Github/Python-learning/snap/1.ipynb#W4sZmlsZQ%3D%3D?line=22'>23</a>\u001b[0m          blank_board\u001b[39m.\u001b[39mpaste(image_resized[index],bo) \u001b[39m#在空白板上对应位置黏贴对应图片\u001b[39;00m\n\u001b[0;32m     <a href='vscode-notebook-cell:/d%3A/library/Github/Python-learning/snap/1.ipynb#W4sZmlsZQ%3D%3D?line=23'>24</a>\u001b[0m     blank_board\u001b[39m.\u001b[39msave(\u001b[39m\"\u001b[39m\u001b[39mmerged_picture.png\u001b[39m\u001b[39m\"\u001b[39m) \u001b[39m#保存黏贴结果\u001b[39;00m\n\u001b[1;32m---> <a href='vscode-notebook-cell:/d%3A/library/Github/Python-learning/snap/1.ipynb#W4sZmlsZQ%3D%3D?line=26'>27</a>\u001b[0m image_merge(cards)\n",
      "\u001b[1;32md:\\library\\Github\\Python-learning\\snap\\1.ipynb Cell 7\u001b[0m in \u001b[0;36mimage_merge\u001b[1;34m(cards)\u001b[0m\n\u001b[0;32m      <a href='vscode-notebook-cell:/d%3A/library/Github/Python-learning/snap/1.ipynb#W4sZmlsZQ%3D%3D?line=6'>7</a>\u001b[0m height\u001b[39m=\u001b[39m\u001b[39m310\u001b[39m \u001b[39m#设置图片高度\u001b[39;00m\n\u001b[0;32m      <a href='vscode-notebook-cell:/d%3A/library/Github/Python-learning/snap/1.ipynb#W4sZmlsZQ%3D%3D?line=7'>8</a>\u001b[0m \u001b[39mlist\u001b[39m\u001b[39m=\u001b[39m\u001b[39m'\u001b[39m\u001b[39mpool-3\u001b[39m\u001b[39m'\u001b[39m\n\u001b[1;32m---> <a href='vscode-notebook-cell:/d%3A/library/Github/Python-learning/snap/1.ipynb#W4sZmlsZQ%3D%3D?line=9'>10</a>\u001b[0m image_list\u001b[39m=\u001b[39m[Image\u001b[39m.\u001b[39mopen(\u001b[39mf\u001b[39m\u001b[39m'\u001b[39m\u001b[39massets/\u001b[39m\u001b[39m{\u001b[39;00m\u001b[39mlist\u001b[39m\u001b[39m}\u001b[39;00m\u001b[39m/\u001b[39m\u001b[39m{\u001b[39;00mcards[i]\u001b[39m}\u001b[39;00m\u001b[39m.webp\u001b[39m\u001b[39m'\u001b[39m) \u001b[39mfor\u001b[39;00m i \u001b[39min\u001b[39;00m \u001b[39mrange\u001b[39m(\u001b[39mlen\u001b[39m(cards))] \u001b[39m#读取图片\u001b[39;00m\n\u001b[0;32m     <a href='vscode-notebook-cell:/d%3A/library/Github/Python-learning/snap/1.ipynb#W4sZmlsZQ%3D%3D?line=10'>11</a>\u001b[0m image_resized\u001b[39m=\u001b[39m[image\u001b[39m.\u001b[39mresize((width,height),Image\u001b[39m.\u001b[39mBILINEAR) \u001b[39mfor\u001b[39;00m image \u001b[39min\u001b[39;00m image_list ]\u001b[39m#重调图片尺寸\u001b[39;00m\n\u001b[0;32m     <a href='vscode-notebook-cell:/d%3A/library/Github/Python-learning/snap/1.ipynb#W4sZmlsZQ%3D%3D?line=11'>12</a>\u001b[0m \u001b[39mprint\u001b[39m(\u001b[39mlen\u001b[39m(image_resized)) \u001b[39m#测试图片数量\u001b[39;00m\n",
      "\u001b[1;32md:\\library\\Github\\Python-learning\\snap\\1.ipynb Cell 7\u001b[0m in \u001b[0;36m<listcomp>\u001b[1;34m(.0)\u001b[0m\n\u001b[0;32m      <a href='vscode-notebook-cell:/d%3A/library/Github/Python-learning/snap/1.ipynb#W4sZmlsZQ%3D%3D?line=6'>7</a>\u001b[0m height\u001b[39m=\u001b[39m\u001b[39m310\u001b[39m \u001b[39m#设置图片高度\u001b[39;00m\n\u001b[0;32m      <a href='vscode-notebook-cell:/d%3A/library/Github/Python-learning/snap/1.ipynb#W4sZmlsZQ%3D%3D?line=7'>8</a>\u001b[0m \u001b[39mlist\u001b[39m\u001b[39m=\u001b[39m\u001b[39m'\u001b[39m\u001b[39mpool-3\u001b[39m\u001b[39m'\u001b[39m\n\u001b[1;32m---> <a href='vscode-notebook-cell:/d%3A/library/Github/Python-learning/snap/1.ipynb#W4sZmlsZQ%3D%3D?line=9'>10</a>\u001b[0m image_list\u001b[39m=\u001b[39m[Image\u001b[39m.\u001b[39;49mopen(\u001b[39mf\u001b[39;49m\u001b[39m'\u001b[39;49m\u001b[39massets/\u001b[39;49m\u001b[39m{\u001b[39;49;00m\u001b[39mlist\u001b[39;49m\u001b[39m}\u001b[39;49;00m\u001b[39m/\u001b[39;49m\u001b[39m{\u001b[39;49;00mcards[i]\u001b[39m}\u001b[39;49;00m\u001b[39m.webp\u001b[39;49m\u001b[39m'\u001b[39;49m) \u001b[39mfor\u001b[39;00m i \u001b[39min\u001b[39;00m \u001b[39mrange\u001b[39m(\u001b[39mlen\u001b[39m(cards))] \u001b[39m#读取图片\u001b[39;00m\n\u001b[0;32m     <a href='vscode-notebook-cell:/d%3A/library/Github/Python-learning/snap/1.ipynb#W4sZmlsZQ%3D%3D?line=10'>11</a>\u001b[0m image_resized\u001b[39m=\u001b[39m[image\u001b[39m.\u001b[39mresize((width,height),Image\u001b[39m.\u001b[39mBILINEAR) \u001b[39mfor\u001b[39;00m image \u001b[39min\u001b[39;00m image_list ]\u001b[39m#重调图片尺寸\u001b[39;00m\n\u001b[0;32m     <a href='vscode-notebook-cell:/d%3A/library/Github/Python-learning/snap/1.ipynb#W4sZmlsZQ%3D%3D?line=11'>12</a>\u001b[0m \u001b[39mprint\u001b[39m(\u001b[39mlen\u001b[39m(image_resized)) \u001b[39m#测试图片数量\u001b[39;00m\n",
      "File \u001b[1;32mc:\\Users\\weixiabing\\AppData\\Local\\Programs\\Python\\Python38\\lib\\site-packages\\PIL\\Image.py:2953\u001b[0m, in \u001b[0;36mopen\u001b[1;34m(fp, mode, formats)\u001b[0m\n\u001b[0;32m   2950\u001b[0m     filename \u001b[39m=\u001b[39m fp\n\u001b[0;32m   2952\u001b[0m \u001b[39mif\u001b[39;00m filename:\n\u001b[1;32m-> 2953\u001b[0m     fp \u001b[39m=\u001b[39m builtins\u001b[39m.\u001b[39;49mopen(filename, \u001b[39m\"\u001b[39;49m\u001b[39mrb\u001b[39;49m\u001b[39m\"\u001b[39;49m)\n\u001b[0;32m   2954\u001b[0m     exclusive_fp \u001b[39m=\u001b[39m \u001b[39mTrue\u001b[39;00m\n\u001b[0;32m   2956\u001b[0m \u001b[39mtry\u001b[39;00m:\n",
      "\u001b[1;31mFileNotFoundError\u001b[0m: [Errno 2] No such file or directory: 'assets/pool-3/Carnage.webp'"
     ]
    }
   ],
   "source": [
    "\n",
    "from os import listdir #返回指定的文件夹包含的文件或文件夹的名字的列表\n",
    "from PIL import Image\n",
    "list='pool-1'\n",
    "cards=[i for i in set([i['CardDefId'] for i in data['ServerState']['Cards']]) if i in cards_dict[list]]    \n",
    "def image_merge(cards): #定义拼接图片函数\n",
    "    width=310#设置图片宽度\n",
    "    height=310 #设置图片高度\n",
    "    list='pool-3'\n",
    "    \n",
    "    image_list=[Image.open(f'assets/{list}/{cards[i]}.webp') for i in range(len(cards))] #读取图片\n",
    "    image_resized=[image.resize((width,height),Image.BILINEAR) for image in image_list ]#重调图片尺寸\n",
    "    print(len(image_resized)) #测试图片数量\n",
    "    blank_board=Image.new(image_resized[0].mode,size=(width*10,height*(len(image_resized)//10+1))) #新建空白画布\n",
    "    print(blank_board.size[0],blank_board.size[1]) #测试白板尺寸\n",
    "    boxs=[] #用来存放黏贴图片位置（四至）\n",
    "    for i in range(len(image_resized)//10+1):\n",
    "        for j in range(10):\n",
    "            if  i*10+j<len(image_resized):\n",
    "                box=(j*width,i*height,(j+1)*width,(i+1)*height)\n",
    "                boxs.append(box)\n",
    "    for index, bo in enumerate(boxs): #待黏贴的图片序号和位置\n",
    "         #print(index,bo)\n",
    "         blank_board.paste(image_resized[index],bo) #在空白板上对应位置黏贴对应图片\n",
    "    blank_board.save(\"merged_picture.png\") #保存黏贴结果\n",
    "\n",
    "\n",
    "image_merge(cards) #调用函数     "
   ]
  },
  {
   "cell_type": "code",
   "execution_count": 43,
   "metadata": {},
   "outputs": [],
   "source": [
    "def load_pool_cards(data,cards_dict,pool):\n",
    "    acquired_cards=set()\n",
    "    unacquired_cards=set()\n",
    "    acquired_cards=[i for i in set([i['CardDefId'] for i in data['ServerState']['Cards']]) if i in cards_dict[pool]] \n",
    "    unacquired_cards=[i for i in cards_dict[pool] if i not in acquired_cards]\n",
    "    return acquired_cards,unacquired_cards"
   ]
  },
  {
   "cell_type": "code",
   "execution_count": 51,
   "metadata": {},
   "outputs": [
    {
     "name": "stdout",
     "output_type": "stream",
     "text": [
      "50 29\n",
      "3100 2790\n",
      "[<PIL.Image.Image image mode=RGB size=310x310 at 0x29CE45FA970>, <PIL.Image.Image image mode=RGBA size=310x310 at 0x29CE45CC7C0>, <PIL.Image.Image image mode=RGBA size=310x310 at 0x29CE45CCB80>, <PIL.Image.Image image mode=RGBA size=310x310 at 0x29CE45CCAF0>, <PIL.Image.Image image mode=RGBA size=310x310 at 0x29CE45CC460>, <PIL.Image.Image image mode=RGBA size=310x310 at 0x29CE45CC370>, <PIL.Image.Image image mode=RGBA size=310x310 at 0x29CE45CCA90>, <PIL.Image.Image image mode=RGBA size=310x310 at 0x29CE45CC130>, <PIL.Image.Image image mode=RGBA size=310x310 at 0x29CE45CC220>, <PIL.Image.Image image mode=RGBA size=310x310 at 0x29CE45CCBB0>, <PIL.Image.Image image mode=RGBA size=310x310 at 0x29CE45CCDF0>, <PIL.Image.Image image mode=RGBA size=310x310 at 0x29CE45CC3D0>, <PIL.Image.Image image mode=RGBA size=310x310 at 0x29CE45CC2B0>, <PIL.Image.Image image mode=RGBA size=310x310 at 0x29CE45CCA30>, <PIL.Image.Image image mode=RGBA size=310x310 at 0x29CE45CC4F0>, <PIL.Image.Image image mode=RGBA size=310x310 at 0x29CE45CCC70>, <PIL.Image.Image image mode=RGBA size=310x310 at 0x29CE45CC0D0>, <PIL.Image.Image image mode=RGBA size=310x310 at 0x29CE45CCE80>, <PIL.Image.Image image mode=RGBA size=310x310 at 0x29CE45CC040>, <PIL.Image.Image image mode=RGBA size=310x310 at 0x29CE45CCB20>, <PIL.Image.Image image mode=RGBA size=310x310 at 0x29CE45CCEB0>, <PIL.Image.Image image mode=RGBA size=310x310 at 0x29CE45CC6D0>, <PIL.Image.Image image mode=RGBA size=310x310 at 0x29CE45CC9A0>, <PIL.Image.Image image mode=RGBA size=310x310 at 0x29CE45CCAC0>, <PIL.Image.Image image mode=RGBA size=310x310 at 0x29CE45CCE50>, <PIL.Image.Image image mode=RGBA size=310x310 at 0x29CE45CCDC0>, <PIL.Image.Image image mode=RGBA size=310x310 at 0x29CE45CC190>, <PIL.Image.Image image mode=RGBA size=310x310 at 0x29CE45CC1C0>, <PIL.Image.Image image mode=RGBA size=310x310 at 0x29CE45CC640>]\n"
     ]
    }
   ],
   "source": [
    "# %%\n",
    "def image_merge(acquired_cards,unacquired_cards,pool,output_file):  # 定义拼接图片函数\n",
    "    width = 310  # 设置图片宽度\n",
    "    height = 310  # 设置图片高度\n",
    "    list = pool\n",
    "    acquired_cards_image_list=[Image.open('assets/acquired.webp')]\n",
    "    acquired_cards_image_list = acquired_cards_image_list+[Image.open(f'assets/{list}/{acquired_cards[i]}.webp')\n",
    "                  for i in range(len(acquired_cards))]  # 读取图片\n",
    "    unacquired_cards_image_list=[Image.open('assets/unacquired.webp')]\n",
    "    unacquired_cards_image_list = unacquired_cards_image_list+[Image.open(f'assets/{list}/{unacquired_cards[i]}.webp')\n",
    "                    for i in range(len(unacquired_cards))]  # 读取图片\n",
    "    acquired_cards_image_resized=[image.resize((width,height),Image.BILINEAR) for image in acquired_cards_image_list ]\n",
    "    unacquired_cards_image_resized=[image.resize((width,height),Image.BILINEAR) for image in unacquired_cards_image_list ]\n",
    "    print(len(unacquired_cards_image_resized),len(acquired_cards_image_resized))  # 测试图片数量\n",
    "    blank_board = Image.new('RGBA',size=(\n",
    "        width*10, height*(((len(unacquired_cards_image_resized))//10+1)+((len(acquired_cards_image_resized))//10+1))))  # 新建空白画布\n",
    "    print(blank_board.size[0], blank_board.size[1])  # 测试白板尺寸\n",
    "    boxs1 = []  # 用来存放黏贴图片位置（四至）\n",
    "    boxs2 = []  # 用来存放黏贴图片位置（四至）\n",
    "    print(acquired_cards_image_resized)\n",
    "    for i in range(len(acquired_cards_image_resized)//10+1):\n",
    "        for j in range(10):\n",
    "            if i*10+j < len(acquired_cards_image_resized):\n",
    "                box = (j*width, i*height, (j+1)*width, (i+1)*height)\n",
    "                boxs1.append(box)\n",
    "    for index1, bo1 in enumerate(boxs1):  # 待黏贴的图片序号和位置\n",
    "        blank_board.paste(acquired_cards_image_resized[index1], bo1)  # 在空白板上对应位置黏贴对应图片\n",
    "    for i in range(len(unacquired_cards_image_resized)//10+1):\n",
    "        for j in range(10):\n",
    "            if i*10+j < len(unacquired_cards_image_resized):\n",
    "                box = (j*width, (i+len(acquired_cards_image_resized)//10+1)*height,\n",
    "                       (j+1)*width, ((i+len(acquired_cards_image_resized)//10+1)+1)*height)\n",
    "                boxs2.append(box)\n",
    "    for index2, bo2 in enumerate(boxs2):  # 待黏贴的图片序号和位置\n",
    "        blank_board.paste(unacquired_cards_image_resized[index2], bo2)  # 在空白板上对应位置黏贴对应图片\n",
    "    \n",
    "    blank_board.save(output_file)  #\n",
    "\n",
    "\n",
    "acquired_cards,unacquired_cards=load_pool_cards(data,cards_dict,'pool-3')\n",
    "image_merge(acquired_cards,unacquired_cards,'pool-3','merged_picture.png')  # 调用函数"
   ]
  },
  {
   "cell_type": "code",
   "execution_count": 11,
   "metadata": {},
   "outputs": [
    {
     "name": "stdout",
     "output_type": "stream",
     "text": [
      "卡牌总数： 125\n",
      "卡牌池： 155\n",
      "lv1-14 8 /8\n",
      "pool-1 46 /46\n",
      "pool-2 25 /25\n",
      "pool-3 28 /77\n",
      "pool-4 0 /10\n",
      "pool-5 0 /11\n",
      "season1 5 /5\n",
      "season4 0 /1\n",
      "season5 0 /1\n",
      "StarterCard 13 /13\n"
     ]
    }
   ],
   "source": [
    "#统计cards_dict中的值的数量\n",
    "\n",
    "def count_cards():\n",
    "    #统计data['ServerState']['Cards']的对象属性CardDefId的不同值的个数\n",
    "    print('卡牌总数：',len(set([i['CardDefId'] for i in data['ServerState']['Cards']])))\n",
    "    for list in cards_dict.keys():\n",
    "        print(list,len([i for i in set([i['CardDefId'] for i in data['ServerState']['Cards']]) if i in cards_dict[list]]),f'/{len(cards_dict[list])}')\n",
    "count_cards()"
   ]
  }
 ],
 "metadata": {
  "kernelspec": {
   "display_name": "Python 3",
   "language": "python",
   "name": "python3"
  },
  "language_info": {
   "codemirror_mode": {
    "name": "ipython",
    "version": 3
   },
   "file_extension": ".py",
   "mimetype": "text/x-python",
   "name": "python",
   "nbconvert_exporter": "python",
   "pygments_lexer": "ipython3",
   "version": "3.8.6 (tags/v3.8.6:db45529, Sep 23 2020, 15:52:53) [MSC v.1927 64 bit (AMD64)]"
  },
  "orig_nbformat": 4,
  "vscode": {
   "interpreter": {
    "hash": "68417747ef861d2967d886e38e5866ad9f930f11d483c30d2c46fc86751c93e4"
   }
  }
 },
 "nbformat": 4,
 "nbformat_minor": 2
}

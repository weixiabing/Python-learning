{
 "cells": [
  {
   "cell_type": "code",
   "execution_count": 6,
   "metadata": {},
   "outputs": [
    {
     "name": "stdout",
     "output_type": "stream",
     "text": [
      "汪汪汪,我是一只金毛james\n"
     ]
    }
   ],
   "source": [
    "class Dog:\n",
    "    d_type='金毛'\n",
    "    def __init__(self,name):\n",
    "        self.name=name\n",
    "        self.age=0\n",
    "        self.color='黑色'\n",
    "        self.weight=0\n",
    "    def say_hello(self):\n",
    "        print(\"汪汪汪,我是一只{}{}\".format(self.d_type,self.name))\n",
    "    \n",
    "james=Dog('james')\n",
    "james.say_hello()\n"
   ]
  },
  {
   "cell_type": "code",
   "execution_count": null,
   "metadata": {},
   "outputs": [],
   "source": []
  }
 ],
 "metadata": {
  "kernelspec": {
   "display_name": "Matlab",
   "language": "matlab",
   "name": "matlab"
  },
  "language_info": {
   "codemirror_mode": {
    "name": "ipython",
    "version": 3
   },
   "file_extension": ".py",
   "mimetype": "text/x-python",
   "name": "matlab",
   "nbconvert_exporter": "python",
   "pygments_lexer": "ipython3",
   "version": "3.8.10"
  },
  "orig_nbformat": 4,
  "vscode": {
   "interpreter": {
    "hash": "31f2aee4e71d21fbe5cf8b01ff0e069b9275f58929596ceb00d14d90e3e16cd6"
   }
  }
 },
 "nbformat": 4,
 "nbformat_minor": 2
}

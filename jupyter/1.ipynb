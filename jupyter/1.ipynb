{
    "cells": [
        {
            "cell_type": "code",
            "execution_count": 1,
            "source": [
                "import matplotlib.pyplot as plt\r\n",
                "import matplotlib as mpl\r\n",
                "import numpy as np"
            ],
            "outputs": [],
            "metadata": {}
        },
        {
            "cell_type": "code",
            "execution_count": null,
            "source": [
                "x = np.linspace(0, 20, 100)\r\n",
                "plt.plot(x, np.sin(x))\r\n",
                "plt.show() \r\n",
                " "
            ],
            "outputs": [],
            "metadata": {}
        }
    ],
    "metadata": {
        "orig_nbformat": 4,
        "language_info": {
            "name": "python",
            "version": "3.9.2",
            "mimetype": "text/x-python",
            "codemirror_mode": {
                "name": "ipython",
                "version": 3
            },
            "pygments_lexer": "ipython3",
            "nbconvert_exporter": "python",
            "file_extension": ".py"
        },
        "kernelspec": {
            "name": "python3",
            "display_name": "Python 3.9.2 64-bit"
        },
        "interpreter": {
            "hash": "5cb6ce21d3cff3178f76d818d70dbe23d56f2505c0022c48e8e72ae65be690da"
        }
    },
    "nbformat": 4,
    "nbformat_minor": 2
}
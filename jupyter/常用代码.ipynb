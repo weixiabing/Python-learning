{
 "cells": [
  {
   "cell_type": "code",
   "execution_count": 1,
   "source": [
    "def Merge(dict1, dict2): \n",
    "  #合并字典\n",
    "    res = {**dict1, **dict2} \n",
    "    return res \n",
    "      \n",
    "# 两个字典\n",
    "dict1 = {\"name\": \"Joy\", \"age\": 25}\n",
    "dict2 = {\"name\": \"Joy\", \"city\": \"New York\"}\n",
    "dict3 = Merge(dict1, dict2) \n",
    "print(dict3)"
   ],
   "outputs": [
    {
     "output_type": "stream",
     "name": "stdout",
     "text": [
      "{'name': 'Joy', 'age': 25, 'city': 'New York'}\n"
     ]
    }
   ],
   "metadata": {}
  },
  {
   "cell_type": "code",
   "execution_count": 2,
   "source": [
    "a = 5\n",
    "#链式比较\n",
    "print(2 < a < 8)\n",
    "print(1 == a < 3)"
   ],
   "outputs": [
    {
     "output_type": "stream",
     "name": "stdout",
     "text": [
      "True\n",
      "False\n"
     ]
    }
   ],
   "metadata": {}
  },
  {
   "cell_type": "code",
   "execution_count": 3,
   "source": [
    "#重复打印字符串\n",
    "n = 5\n",
    "string = \"Hello!\"\n",
    "\n",
    "print(string * n)"
   ],
   "outputs": [
    {
     "output_type": "stream",
     "name": "stdout",
     "text": [
      "Hello!Hello!Hello!Hello!Hello!\n"
     ]
    }
   ],
   "metadata": {}
  },
  {
   "cell_type": "code",
   "execution_count": 8,
   "source": [
    "from os import path\n",
    "#检查文件是否存在\n",
    "def check_for_file():\n",
    "    print(\"Does file exist:\", path.exists(\"data.csv\"))\n",
    "\n",
    "if __name__==\"__main__\":\n",
    "    check_for_file()"
   ],
   "outputs": [
    {
     "output_type": "stream",
     "name": "stdout",
     "text": [
      "Does file exist: False\n"
     ]
    }
   ],
   "metadata": {}
  },
  {
   "cell_type": "code",
   "execution_count": 10,
   "source": [
    "my_list = ['banana', 'apple', 'orange', 'pineapple']\n",
    "#检索列表最后一个元素\n",
    "\n",
    "#索引方法\n",
    "last_element = my_list[-1]\n",
    "\n",
    "#pop方法\n",
    "last_element = my_list.pop()\n",
    "print(last_element )"
   ],
   "outputs": [
    {
     "output_type": "stream",
     "name": "stdout",
     "text": [
      "pineapple\n"
     ]
    }
   ],
   "metadata": {}
  },
  {
   "cell_type": "code",
   "execution_count": 11,
   "source": [
    "def get_vowels(string):\n",
    "    #列表推导式是for循环的简易形式，可以在一行代码里创建一个新列表，同时能通过if语句进行判断筛选\n",
    "    return [vowel for vowel in string if vowel in 'aeiou'] \n",
    "\n",
    "print(\"Vowels are:\", get_vowels('This is some random string'))"
   ],
   "outputs": [
    {
     "output_type": "stream",
     "name": "stdout",
     "text": [
      "Vowels are: ['i', 'i', 'o', 'e', 'a', 'o', 'i']\n"
     ]
    }
   ],
   "metadata": {}
  },
  {
   "cell_type": "code",
   "execution_count": 12,
   "source": [
    "import time\n",
    "#计算代码执行时间\n",
    "start_time = time.time()\n",
    "\n",
    "total = 0\n",
    "for i in range(10):\n",
    "  total += i\n",
    "print(\"Sum:\", total)\n",
    "\n",
    "end_time = time.time()\n",
    "time_taken = end_time - start_time\n",
    "print(\"Time: \", time_taken)"
   ],
   "outputs": [
    {
     "output_type": "stream",
     "name": "stdout",
     "text": [
      "Sum: 45\n",
      "Time:  0.0001995563507080078\n"
     ]
    }
   ],
   "metadata": {
    "scrolled": true
   }
  },
  {
   "cell_type": "code",
   "execution_count": 13,
   "source": [
    "def most_frequent(list):\n",
    " #查找出现次数最多的元素\n",
    "    return max(set(list), key=list.count)\n",
    "\n",
    "mylist = [1,1,2,3,4,5,6,6,2,2]\n",
    "print(\"出现次数最多的元素是:\", most_frequent(mylist))"
   ],
   "outputs": [
    {
     "output_type": "stream",
     "name": "stdout",
     "text": [
      "出现次数最多的元素是: 2\n"
     ]
    }
   ],
   "metadata": {}
  },
  {
   "cell_type": "code",
   "execution_count": 14,
   "source": [
    "def list_to_dictionary(keys, values):\n",
    "  #将两个列表转换为字典\n",
    "    return dict(zip(keys, values))\n",
    "\n",
    "list1 = [1, 2, 3]\n",
    "list2 = ['one', 'two', 'three']\n",
    "\n",
    "print(list_to_dictionary(list1, list2))"
   ],
   "outputs": [
    {
     "output_type": "stream",
     "name": "stdout",
     "text": [
      "{1: 'one', 2: 'two', 3: 'three'}\n"
     ]
    }
   ],
   "metadata": {}
  },
  {
   "cell_type": "code",
   "execution_count": 15,
   "source": [
    "a, b = 1,0\n",
    "#异常处理\n",
    "\n",
    "try:\n",
    "    print(a/b)\n",
    "except ZeroDivisionError:\n",
    "    print(\"Can not divide by zero\")\n",
    "finally:\n",
    "    print(\"Executing finally block\")"
   ],
   "outputs": [
    {
     "output_type": "stream",
     "name": "stdout",
     "text": [
      "Can not divide by zero\n",
      "Executing finally block\n"
     ]
    }
   ],
   "metadata": {}
  },
  {
   "cell_type": "code",
   "execution_count": null,
   "source": [
    "str = \"Hello World\"\n",
    "#反转字符串\n",
    "print(\"反转后字符串是:\", str[::-1])"
   ],
   "outputs": [],
   "metadata": {}
  },
  {
   "cell_type": "code",
   "execution_count": 16,
   "source": [
    "#字符串列表组成单个字符串\n",
    "list = [\"Hello\", \"world\", \"Ok\", \"Bye!\"]\n",
    "combined_string = \" \".join(list)\n",
    "\n",
    "print(combined_string)"
   ],
   "outputs": [
    {
     "output_type": "stream",
     "name": "stdout",
     "text": [
      "Hello world Ok Bye!\n"
     ]
    }
   ],
   "metadata": {}
  },
  {
   "cell_type": "code",
   "execution_count": null,
   "source": [
    "dict = {1:'one', 2:'two', 4:'four'}\n",
    "#返回字典缺失键的默认值\n",
    "#returning three as default value\n",
    "print(dict.get(3, 'three'))\n",
    "\n",
    "print(\"原始字典:\", dict) "
   ],
   "outputs": [],
   "metadata": {}
  },
  {
   "cell_type": "code",
   "execution_count": null,
   "source": [
    "import re\n",
    "#正则表达式\n",
    "text = \"The rain in spain\"\n",
    "result = re.search(\"rain\", text)\n",
    "\n",
    "print(True if result else False)"
   ],
   "outputs": [],
   "metadata": {}
  },
  {
   "cell_type": "code",
   "execution_count": 24,
   "source": [
    "#筛选值\n",
    "my_list = [0,1,2,3,6,7,9,11]\n",
    "result = filter(lambda x: x % 2!=0, my_list)\n",
    "print(list(result))"
   ],
   "outputs": [
    {
     "output_type": "error",
     "ename": "TypeError",
     "evalue": "'list' object is not callable",
     "traceback": [
      "\u001b[0;31m---------------------------------------------------------------------------\u001b[0m",
      "\u001b[0;31mTypeError\u001b[0m                                 Traceback (most recent call last)",
      "\u001b[0;32m/tmp/ipykernel_12855/402408547.py\u001b[0m in \u001b[0;36m<module>\u001b[0;34m\u001b[0m\n\u001b[1;32m      2\u001b[0m \u001b[0mmy_list\u001b[0m \u001b[0;34m=\u001b[0m \u001b[0;34m[\u001b[0m\u001b[0;36m0\u001b[0m\u001b[0;34m,\u001b[0m\u001b[0;36m1\u001b[0m\u001b[0;34m,\u001b[0m\u001b[0;36m2\u001b[0m\u001b[0;34m,\u001b[0m\u001b[0;36m3\u001b[0m\u001b[0;34m,\u001b[0m\u001b[0;36m6\u001b[0m\u001b[0;34m,\u001b[0m\u001b[0;36m7\u001b[0m\u001b[0;34m,\u001b[0m\u001b[0;36m9\u001b[0m\u001b[0;34m,\u001b[0m\u001b[0;36m11\u001b[0m\u001b[0;34m]\u001b[0m\u001b[0;34m\u001b[0m\u001b[0;34m\u001b[0m\u001b[0m\n\u001b[1;32m      3\u001b[0m \u001b[0mresult\u001b[0m \u001b[0;34m=\u001b[0m \u001b[0mfilter\u001b[0m\u001b[0;34m(\u001b[0m\u001b[0;32mlambda\u001b[0m \u001b[0mx\u001b[0m\u001b[0;34m:\u001b[0m \u001b[0mx\u001b[0m \u001b[0;34m%\u001b[0m \u001b[0;36m2\u001b[0m\u001b[0;34m!=\u001b[0m\u001b[0;36m0\u001b[0m\u001b[0;34m,\u001b[0m \u001b[0mmy_list\u001b[0m\u001b[0;34m)\u001b[0m\u001b[0;34m\u001b[0m\u001b[0;34m\u001b[0m\u001b[0m\n\u001b[0;32m----> 4\u001b[0;31m \u001b[0mprint\u001b[0m\u001b[0;34m(\u001b[0m\u001b[0mlist\u001b[0m\u001b[0;34m(\u001b[0m\u001b[0mresult\u001b[0m\u001b[0;34m)\u001b[0m\u001b[0;34m)\u001b[0m\u001b[0;34m\u001b[0m\u001b[0;34m\u001b[0m\u001b[0m\n\u001b[0m",
      "\u001b[0;31mTypeError\u001b[0m: 'list' object is not callable"
     ]
    }
   ],
   "metadata": {
    "scrolled": true
   }
  },
  {
   "cell_type": "code",
   "execution_count": 25,
   "source": [
    "#统计字频\n",
    "from collections import Counter\n",
    "result = Counter('banana')\n",
    "print(result)"
   ],
   "outputs": [
    {
     "output_type": "stream",
     "name": "stdout",
     "text": [
      "Counter({'a': 3, 'n': 2, 'b': 1})\n"
     ]
    }
   ],
   "metadata": {}
  },
  {
   "cell_type": "code",
   "execution_count": null,
   "source": [
    "#链式函数调用\n",
    "def add(a, b):\n",
    "    return a + b\n",
    "\n",
    "def subtract(a, b):\n",
    "    return a - b\n",
    "\n",
    "a, b = 5, 10\n",
    "\n",
    "print((add if b > a else subtract)(a,b))"
   ],
   "outputs": [],
   "metadata": {}
  },
  {
   "cell_type": "code",
   "execution_count": null,
   "source": [
    "#从列表中删除重复项\n",
    "list1 = [1,2,3,3,4,'John', 'Ana', 'Mark', 'John']\n",
    "result = []\n",
    "[result.append(x) for x in list1 if x not in result]\n",
    "print(result)"
   ],
   "outputs": [],
   "metadata": {}
  }
 ],
 "metadata": {
  "kernelspec": {
   "display_name": "Python 3 (ipykernel)",
   "language": "python",
   "name": "python3"
  },
  "language_info": {
   "name": "python",
   "version": "3.9.6",
   "mimetype": "text/x-python",
   "codemirror_mode": {
    "name": "ipython",
    "version": 3
   },
   "pygments_lexer": "ipython3",
   "nbconvert_exporter": "python",
   "file_extension": ".py"
  }
 },
 "nbformat": 4,
 "nbformat_minor": 5
}
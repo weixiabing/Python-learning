{
 "cells": [
  {
   "cell_type": "code",
   "execution_count": 1,
   "metadata": {},
   "outputs": [],
   "source": [
    "import matlab.engine"
   ]
  },
  {
   "cell_type": "code",
   "execution_count": 2,
   "metadata": {},
   "outputs": [],
   "source": [
    "eng=matlab.engine.start_matlab()\n",
    "eng.Q2(nargout=0)"
   ]
  },
  {
   "cell_type": "code",
   "execution_count": 4,
   "metadata": {},
   "outputs": [
    {
     "name": "stdout",
     "output_type": "stream",
     "text": [
      "2.0\n"
     ]
    }
   ],
   "source": [
    "res=eng.sqrt(4.0)\n",
    "print(res)"
   ]
  },
  {
   "cell_type": "code",
   "execution_count": 8,
   "metadata": {},
   "outputs": [],
   "source": [
    "x = matlab.double([0,35])\n",
    "y = matlab.double([89.9,89.9])\n",
    "h = eng.line(x,y,\"Color\",\"blue\")\n",
    "h = eng.text(21.0,88.5,\"89.9 (Smoker avg.)\",\"Color\",\"blue\")\n",
    "y = matlab.double([79.4,79.4])\n",
    "h = eng.line(x,y,\"Color\",\"red\")\n",
    "h = eng.text(5.0,81.0,\"79.4 (Nonsmoker avg.)\",\"Color\",\"red\")"
   ]
  }
 ],
 "metadata": {
  "kernelspec": {
   "display_name": "Python 3.8.6 64-bit",
   "language": "python",
   "name": "python3"
  },
  "language_info": {
   "codemirror_mode": {
    "name": "ipython",
    "version": 3
   },
   "file_extension": ".py",
   "mimetype": "text/x-python",
   "name": "python",
   "nbconvert_exporter": "python",
   "pygments_lexer": "ipython3",
   "version": "3.8.6"
  },
  "orig_nbformat": 4,
  "vscode": {
   "interpreter": {
    "hash": "68417747ef861d2967d886e38e5866ad9f930f11d483c30d2c46fc86751c93e4"
   }
  }
 },
 "nbformat": 4,
 "nbformat_minor": 2
}

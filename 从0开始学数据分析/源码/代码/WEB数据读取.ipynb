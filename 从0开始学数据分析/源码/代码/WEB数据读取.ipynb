{
 "cells": [
  {
   "cell_type": "code",
   "execution_count": 3,
   "metadata": {},
   "outputs": [
    {
     "data": {
      "text/plain": "[Empty DataFrame\n Columns: [è¡ç¥¨åç§°, ææ°ä»·, æ¶¨è·å¹, Unnamed: 3]\n Index: []]"
     },
     "execution_count": 3,
     "metadata": {},
     "output_type": "execute_result"
    }
   ],
   "source": [
    "import pandas as pd\n",
    "df = pd.read_html('http://worldcup.2014.163.com/schedule/')\n",
    "df"
   ]
  },
  {
   "cell_type": "code",
   "execution_count": 4,
   "metadata": {},
   "outputs": [
    {
     "data": {
      "text/plain": "Empty DataFrame\nColumns: [è¡ç¥¨åç§°, ææ°ä»·, æ¶¨è·å¹, Unnamed: 3]\nIndex: []",
      "text/html": "<div>\n<style scoped>\n    .dataframe tbody tr th:only-of-type {\n        vertical-align: middle;\n    }\n\n    .dataframe tbody tr th {\n        vertical-align: top;\n    }\n\n    .dataframe thead th {\n        text-align: right;\n    }\n</style>\n<table border=\"1\" class=\"dataframe\">\n  <thead>\n    <tr style=\"text-align: right;\">\n      <th></th>\n      <th>è¡ç¥¨åç§°</th>\n      <th>ææ°ä»·</th>\n      <th>æ¶¨è·å¹</th>\n      <th>Unnamed: 3</th>\n    </tr>\n  </thead>\n  <tbody>\n  </tbody>\n</table>\n</div>"
     },
     "execution_count": 4,
     "metadata": {},
     "output_type": "execute_result"
    }
   ],
   "source": [
    "df[0]"
   ]
  },
  {
   "cell_type": "code",
   "execution_count": 5,
   "metadata": {},
   "outputs": [
    {
     "data": {
      "text/plain": "[{'rank': '1',\n  'singer': '\\n\\t\\t\\t\\t\\t\\t\\t\\t\\t我看过\\n\\t\\t\\t\\t\\t\\t\\t\\t\\t\\t\\t\\t\\t\\t\\t\\t\\t\\t ',\n  'song': ' Zealot周星星\\n',\n  'time': '2:44'},\n {'rank': '2',\n  'singer': '\\n\\t\\t\\t\\t\\t\\t\\t\\t\\tLetting Go\\n\\t\\t\\t\\t\\t\\t\\t\\t\\t\\t\\t\\t\\t\\t\\t\\t\\t\\t ',\n  'song': ' 蔡健雅\\n',\n  'time': '4:23'},\n {'rank': '3',\n  'singer': '\\n\\t\\t\\t\\t\\t\\t\\t\\t\\t孤勇者\\n\\t\\t\\t\\t\\t\\t\\t\\t\\t\\t\\t\\t\\t\\t\\t\\t\\t\\t ',\n  'song': ' 陈奕迅\\n',\n  'time': '4:16'},\n {'rank': '4',\n  'singer': '\\n\\t\\t\\t\\t\\t\\t\\t\\t\\t新地球\\n\\t\\t\\t\\t\\t\\t\\t\\t\\t\\t\\t\\t\\t\\t\\t\\t\\t\\t ',\n  'song': ' 林俊杰\\n',\n  'time': '4:37'},\n {'rank': '5',\n  'singer': '\\n\\t\\t\\t\\t\\t\\t\\t\\t\\t11\\n\\t\\t\\t\\t\\t\\t\\t\\t\\t\\t\\t\\t\\t\\t\\t\\t\\t\\t ',\n  'song': ' 队长、黄礼格\\n',\n  'time': '3:54'},\n {'rank': '6',\n  'singer': '\\n\\t\\t\\t\\t\\t\\t\\t\\t\\t月老掉线 (DJ阿卓版)\\n\\t\\t\\t\\t\\t\\t\\t\\t\\t\\t\\t\\t\\t\\t\\t\\t\\t\\t ',\n  'song': ' 王不醒\\n',\n  'time': '3:26'},\n {'rank': '7',\n  'singer': '\\n\\t\\t\\t\\t\\t\\t\\t\\t\\t哪里都是你\\n\\t\\t\\t\\t\\t\\t\\t\\t\\t\\t\\t\\t\\t\\t\\t\\t\\t\\t ',\n  'song': ' 队长\\n',\n  'time': '3:43'},\n {'rank': '8',\n  'singer': '\\n\\t\\t\\t\\t\\t\\t\\t\\t\\t踏雪\\n\\t\\t\\t\\t\\t\\t\\t\\t\\t\\t\\t\\t\\t\\t\\t\\t\\t\\t ',\n  'song': ' 等什么君(邓寓君)、FOX胡天渝\\n',\n  'time': '3:30'},\n {'rank': '9',\n  'singer': '\\n\\t\\t\\t\\t\\t\\t\\t\\t\\t从前说\\n\\t\\t\\t\\t\\t\\t\\t\\t\\t\\t\\t\\t\\t\\t\\t\\t\\t\\t ',\n  'song': ' 小阿七\\n',\n  'time': '4:11'},\n {'rank': '10',\n  'singer': '\\n\\t\\t\\t\\t\\t\\t\\t\\t\\t一路生花\\n\\t\\t\\t\\t\\t\\t\\t\\t\\t\\t\\t\\t\\t\\t\\t\\t\\t\\t ',\n  'song': ' 温奕心\\n',\n  'time': '4:16'},\n {'rank': '11',\n  'singer': '\\n\\t\\t\\t\\t\\t\\t\\t\\t\\t雪龙吟\\n\\t\\t\\t\\t\\t\\t\\t\\t\\t\\t\\t\\t\\t\\t\\t\\t\\t\\t ',\n  'song': ' 张杰\\n',\n  'time': '3:27'},\n {'rank': '12',\n  'singer': '\\n\\t\\t\\t\\t\\t\\t\\t\\t\\t海市蜃楼 (一颗狼星完整版)\\n\\t\\t\\t\\t\\t\\t\\t\\t\\t\\t\\t\\t\\t\\t\\t\\t\\t\\t ',\n  'song': ' 一颗狼星\\n',\n  'time': '2:41'},\n {'rank': '13',\n  'singer': '\\n\\t\\t\\t\\t\\t\\t\\t\\t\\t爱你是那么的辛苦\\n\\t\\t\\t\\t\\t\\t\\t\\t\\t\\t\\t\\t\\t\\t\\t\\t\\t\\t ',\n  'song': ' 马健涛\\n',\n  'time': '3:00'},\n {'rank': '14',\n  'singer': '\\n\\t\\t\\t\\t\\t\\t\\t\\t\\t海市蜃楼\\n\\t\\t\\t\\t\\t\\t\\t\\t\\t\\t\\t\\t\\t\\t\\t\\t\\t\\t ',\n  'song': ' 三叔说\\n',\n  'time': '3:52'},\n {'rank': '15',\n  'singer': '\\n\\t\\t\\t\\t\\t\\t\\t\\t\\t你从未离去\\n\\t\\t\\t\\t\\t\\t\\t\\t\\t\\t\\t\\t\\t\\t\\t\\t\\t\\t ',\n  'song': ' 白挺\\n',\n  'time': '3:23'},\n {'rank': '16',\n  'singer': '\\n\\t\\t\\t\\t\\t\\t\\t\\t\\t红色高跟鞋\\n\\t\\t\\t\\t\\t\\t\\t\\t\\t\\t\\t\\t\\t\\t\\t\\t\\t\\t ',\n  'song': ' 蔡健雅\\n',\n  'time': '3:26'},\n {'rank': '17',\n  'singer': '\\n\\t\\t\\t\\t\\t\\t\\t\\t\\t百年孤寂 (新版)\\n\\t\\t\\t\\t\\t\\t\\t\\t\\t\\t\\t\\t\\t\\t\\t\\t\\t\\t ',\n  'song': ' 魏晗(懋懋)\\n',\n  'time': '4:16'},\n {'rank': '18',\n  'singer': '\\n\\t\\t\\t\\t\\t\\t\\t\\t\\t下潜\\n\\t\\t\\t\\t\\t\\t\\t\\t\\t\\t\\t\\t\\t\\t\\t\\t\\t\\t ',\n  'song': ' 川青\\n',\n  'time': '3:37'},\n {'rank': '19',\n  'singer': '\\n\\t\\t\\t\\t\\t\\t\\t\\t\\t渐暖\\n\\t\\t\\t\\t\\t\\t\\t\\t\\t\\t\\t\\t\\t\\t\\t\\t\\t\\t ',\n  'song': ' 时代少年团\\n',\n  'time': '3:10'},\n {'rank': '20',\n  'singer': '\\n\\t\\t\\t\\t\\t\\t\\t\\t\\t她会魔法吧\\n\\t\\t\\t\\t\\t\\t\\t\\t\\t\\t\\t\\t\\t\\t\\t\\t\\t\\t ',\n  'song': ' DJ小鱼儿\\n',\n  'time': '3:00'},\n {'rank': '21',\n  'singer': '\\n\\t\\t\\t\\t\\t\\t\\t\\t\\t一样的月光\\n\\t\\t\\t\\t\\t\\t\\t\\t\\t\\t\\t\\t\\t\\t\\t\\t\\t\\t ',\n  'song': ' 徐佳莹\\n',\n  'time': '4:00'},\n {'rank': '22',\n  'singer': '\\n\\t\\t\\t\\t\\t\\t\\t\\t\\t作酒 (DJ默涵版)\\n\\t\\t\\t\\t\\t\\t\\t\\t\\t\\t\\t\\t\\t\\t\\t\\t\\t\\t ',\n  'song': ' 豆包\\n',\n  'time': '2:30'}]"
     },
     "execution_count": 5,
     "metadata": {},
     "output_type": "execute_result"
    }
   ],
   "source": [
    "import requests\n",
    "from bs4 import BeautifulSoup\n",
    "data = []\n",
    "wb_data = requests.get('http://www.kugou.com/yy/rank/home/1-8888.html')\n",
    "soup = BeautifulSoup(wb_data.text,'lxml')\n",
    "ranks = soup.select('span.pc_temp_num')\n",
    "titles = soup.select('div.pc_temp_songlist > ul > li > a')\n",
    "times = soup.select('span.pc_temp_tips_r > span')\n",
    "for rank,title,time in zip(ranks,titles,times):\n",
    "    a = {\n",
    "        'rank':rank.get_text().strip(),\n",
    "        'singer':title.get_text().split('-')[0],\n",
    "        'song':title.get_text().split('-')[1],\n",
    "        'time':time.get_text().strip()\n",
    "    }\n",
    "    data.append(a)\n",
    "data"
   ]
  },
  {
   "cell_type": "code",
   "execution_count": null,
   "metadata": {},
   "outputs": [],
   "source": [
    "from pandas import DataFrame\n",
    "df = DataFrame(data)\n",
    "df"
   ]
  },
  {
   "cell_type": "code",
   "execution_count": null,
   "metadata": {
    "collapsed": true
   },
   "outputs": [],
   "source": []
  }
 ],
 "metadata": {
  "kernelspec": {
   "display_name": "Python 3",
   "language": "python",
   "name": "python3"
  },
  "language_info": {
   "codemirror_mode": {
    "name": "ipython",
    "version": 3
   },
   "file_extension": ".py",
   "mimetype": "text/x-python",
   "name": "python",
   "nbconvert_exporter": "python",
   "pygments_lexer": "ipython3",
   "version": "3.6.3"
  }
 },
 "nbformat": 4,
 "nbformat_minor": 2
}
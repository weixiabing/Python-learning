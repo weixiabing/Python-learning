{
 "cells": [
  {
   "cell_type": "code",
   "execution_count": null,
   "metadata": {},
   "outputs": [],
   "source": [
    "str1='ww'\n",
    "a=1\n",
    "print(str1+str(a))"
   ]
  },
  {
   "cell_type": "code",
   "execution_count": 2,
   "metadata": {},
   "outputs": [
    {
     "name": "stdout",
     "output_type": "stream",
     "text": [
      "['1', '1', '2']\n"
     ]
    }
   ],
   "source": [
    "str='1|1|2'\n",
    "print(str.split('|'))"
   ]
  },
  {
   "cell_type": "code",
   "execution_count": 3,
   "metadata": {},
   "outputs": [
    {
     "name": "stdout",
     "output_type": "stream",
     "text": [
      "['hello world ', 'www.abc.cn]pyhon']\n",
      "['www.abc.cn', 'pyhon']\n",
      "['www', 'abc', 'cn']\n"
     ]
    }
   ],
   "source": [
    "srt=\"hello world [www.abc.cn]pyhon\"\n",
    "print(srt.split('['))\n",
    "print(srt.split('[')[1].split(']'))\n",
    "print(srt.split('[')[1].split(']')[0].split('.'))\n"
   ]
  },
  {
   "cell_type": "code",
   "execution_count": 2,
   "metadata": {},
   "outputs": [
    {
     "name": "stdout",
     "output_type": "stream",
     "text": [
      "这句**是********\n"
     ]
    }
   ],
   "source": [
    "words=['测试','非法','暴力','话']\n",
    "text='这句话是测试非法暴力话'\n",
    "for word in words:\n",
    "    if word in text:\n",
    "        text=text.replace(word,'**')\n",
    "print(text)\n"
   ]
  },
  {
   "cell_type": "code",
   "execution_count": 4,
   "metadata": {},
   "outputs": [
    {
     "name": "stdout",
     "output_type": "stream",
     "text": [
      "网站名:菜鸟教程, 地址教程\n",
      "网站名:['菜鸟教程', 'www.runoob.com'], 地址 ['菜鸟教程', 'www.runoob.com']\n",
      "网站名:['菜鸟教程', 'www.runoob.com'], 地址 ['菜鸟', '教程']\n"
     ]
    }
   ],
   "source": [
    "my_list1 = ['菜鸟教程' ,'www.runoob.com']\n",
    "my_list2 = [ '菜鸟','教程']\n",
    "print(\"网站名:{0[0]}, 地址{1[1]}\".format(my_list1,my_list2))\n",
    "print(\"网站名:{0}, 地址 {0}\".format(my_list1))\n",
    "print(\"网站名:{0}, 地址 {1}\".format(my_list1, my_list2))"
   ]
  }
 ],
 "metadata": {
  "interpreter": {
   "hash": "8db421de1a19dc3da54e8629b20fc398a7dacd7f9f65d29612c3a523a5590ca8"
  },
  "kernelspec": {
   "display_name": "Python 3.8.6 ('Python-learning-cWMyDobr')",
   "language": "python",
   "name": "python3"
  },
  "language_info": {
   "codemirror_mode": {
    "name": "ipython",
    "version": 3
   },
   "file_extension": ".py",
   "mimetype": "text/x-python",
   "name": "python",
   "nbconvert_exporter": "python",
   "pygments_lexer": "ipython3",
   "version": "3.8.6"
  },
  "orig_nbformat": 4
 },
 "nbformat": 4,
 "nbformat_minor": 2
}

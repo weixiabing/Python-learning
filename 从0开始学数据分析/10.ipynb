{
 "cells": [
  {
   "cell_type": "code",
   "execution_count": null,
   "metadata": {},
   "outputs": [],
   "source": [
    "a=(1,2,3)\n",
    "d=()"
   ]
  },
  {
   "cell_type": "code",
   "execution_count": 2,
   "metadata": {},
   "outputs": [
    {
     "name": "stdout",
     "output_type": "stream",
     "text": [
      "120\n"
     ]
    }
   ],
   "source": [
    "def f1(n):\n",
    "    if n<2:\n",
    "        return 1\n",
    "    else:\n",
    "        return n*f1(n-1)\n",
    "print(f1(5))"
   ]
  },
  {
   "cell_type": "code",
   "execution_count": null,
   "metadata": {},
   "outputs": [],
   "source": [
    "file=open('test.txt','w')\n",
    "file.write('hello world')\n",
    "file.close()"
   ]
  },
  {
   "cell_type": "code",
   "execution_count": 7,
   "metadata": {},
   "outputs": [
    {
     "name": "stdout",
     "output_type": "stream",
     "text": [
      "20.973778080655165\n",
      "0.2658589384099412\n"
     ]
    }
   ],
   "source": [
    "#计算test,pred的MAPE\n",
    "test=[552910, 447522, 655541, 744627, 781305, 832353, 988990, 842828, 721022, 560308, 637393, 700474]\n",
    "pred=[718587.284, 770019.652, 832442.988, 887206.058, 889689.415, 875786.775, 848298.401, 813164.277, 777276.985, 754442.161, 746041.556, 750859.089]\n",
    "def MAPE(test,pred):\n",
    "    sum=0\n",
    "    for i in range(len(test)):\n",
    "        sum=sum+abs((test[i]-pred[i])/test[i])\n",
    "    return sum/len(test)\n",
    "print(MAPE(test,pred)*100)\n",
    "#计算R2\n",
    "def R2(test,pred):\n",
    "    sum1=0\n",
    "    sum2=0\n",
    "    for i in range(len(test)):\n",
    "        sum1=sum1+test[i]\n",
    "        sum2=sum2+pred[i]\n",
    "    mean1=sum1/len(test)\n",
    "    mean2=sum2/len(test)\n",
    "    sum3=0\n",
    "    sum4=0\n",
    "    for i in range(len(test)):\n",
    "        sum3=sum3+((test[i]-mean1)*(pred[i]-mean2))\n",
    "        sum4=sum4+((test[i]-mean1)**2)\n",
    "    return sum3/sum4\n",
    "print(R2(test,pred))\n",
    "\n",
    "\n"
   ]
  }
 ],
 "metadata": {
  "interpreter": {
   "hash": "c2f549fe5019ed324addec44774e73e6604d80f1196e48cd0f4957fe19ed7b06"
  },
  "kernelspec": {
   "display_name": "Python 3.8.6 ('Python-learning-cWMyDobr')",
   "language": "python",
   "name": "python3"
  },
  "language_info": {
   "codemirror_mode": {
    "name": "ipython",
    "version": 3
   },
   "file_extension": ".py",
   "mimetype": "text/x-python",
   "name": "python",
   "nbconvert_exporter": "python",
   "pygments_lexer": "ipython3",
   "version": "3.8.6"
  },
  "orig_nbformat": 4
 },
 "nbformat": 4,
 "nbformat_minor": 2
}

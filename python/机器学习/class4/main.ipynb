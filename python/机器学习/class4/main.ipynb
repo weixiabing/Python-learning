{
 "cells": [
  {
   "cell_type": "code",
   "execution_count": 1,
   "metadata": {},
   "outputs": [],
   "source": [
    "import numpy as np\n",
    "import sklearn"
   ]
  },
  {
   "cell_type": "code",
   "execution_count": 3,
   "metadata": {},
   "outputs": [
    {
     "name": "stdout",
     "output_type": "stream",
     "text": [
      "train_x shape: (1366857, 41)\n",
      "train_y shape: (1366857, 1)\n",
      "test_x shape: (374783, 41)\n",
      "test_y shape: (374783, 1)\n"
     ]
    }
   ],
   "source": [
    "import numpy as np\n",
    "from sklearn.impute import SimpleImputer\n",
    "\n",
    "def load_data(filename):\n",
    "    # 读取文件\n",
    "    data = np.loadtxt(filename, delimiter=',', dtype=str)\n",
    "    # 将'?'替换为0\n",
    "    data[data == '?'] = '0'\n",
    "    # 转换为float类型\n",
    "    data = data.astype(float)\n",
    "    # 第一列值为0的，用第一列非0值的平均值填充\n",
    "    imp = SimpleImputer(missing_values=0, strategy='mean')\n",
    "    data = imp.fit_transform(data)\n",
    "    return data\n",
    "\n",
    "def load_datasets():\n",
    "    train_x, train_y, test_x, test_y = [], [], [], []\n",
    "\n",
    "    for name in ['A', 'B', 'C', 'D']:\n",
    "        # 加载训练集数据\n",
    "        train_x_i = load_data(f'./dataset/{name}/{name}.feature')\n",
    "        train_y_i = np.loadtxt(f'./dataset/{name}/{name}.label')\n",
    "        train_y_i = train_y_i.reshape(-1, 1)\n",
    "\n",
    "        train_x.append(train_x_i)\n",
    "        train_y.append(train_y_i)\n",
    "\n",
    "    # 加载测试集数据\n",
    "    test_x = load_data('./dataset/E/E.feature')\n",
    "    test_y = np.loadtxt('./dataset/E/E.label')\n",
    "    test_y = test_y.reshape(-1, 1)\n",
    "\n",
    "    # 拼接训练集数据\n",
    "    train_x = np.vstack(train_x)\n",
    "    train_y = np.vstack(train_y)\n",
    "\n",
    "    return train_x, train_y, test_x, test_y\n",
    "\n",
    "train_x, train_y, test_x, test_y = load_datasets()\n",
    "print(f'train_x shape: {train_x.shape}')\n",
    "print(f'train_y shape: {train_y.shape}')\n",
    "print(f'test_x shape: {test_x.shape}')\n",
    "print(f'test_y shape: {test_y.shape}')\n"
   ]
  },
  {
   "cell_type": "code",
   "execution_count": 57,
   "metadata": {},
   "outputs": [
    {
     "name": "stderr",
     "output_type": "stream",
     "text": [
      "c:\\Users\\weixiabing\\.virtualenvs\\Python-learning-cWMyDobr\\lib\\site-packages\\sklearn\\neighbors\\_classification.py:215: DataConversionWarning: A column-vector y was passed when a 1d array was expected. Please change the shape of y to (n_samples,), for example using ravel().\n",
      "  return self._fit(X, y)\n"
     ]
    },
    {
     "name": "stdout",
     "output_type": "stream",
     "text": [
      "0.6875498621869188\n",
      "0.6341604667297891\n",
      "0.6394061959085049\n"
     ]
    }
   ],
   "source": [
    "#knn算法\n",
    "from sklearn.neighbors import KNeighborsClassifier\n",
    "knn=KNeighborsClassifier(n_neighbors=3)\n",
    "knn.fit(train_x,train_y)\n",
    "#预测\n",
    "y_pred=knn.predict(test_x)\n",
    "#计算准确率\n",
    "from sklearn.metrics import accuracy_score\n",
    "print(accuracy_score(test_y,y_pred))\n",
    "#计算召回率\n",
    "from sklearn.metrics import recall_score\n",
    "print(recall_score(test_y,y_pred,average='macro'))\n",
    "#计算精确率\n",
    "from sklearn.metrics import precision_score\n",
    "print(precision_score(test_y,y_pred,average='macro'))"
   ]
  },
  {
   "cell_type": "code",
   "execution_count": 58,
   "metadata": {},
   "outputs": [
    {
     "name": "stdout",
     "output_type": "stream",
     "text": [
      "0.666847215588754\n",
      "0.613712335682296\n",
      "0.6857159166337924\n"
     ]
    }
   ],
   "source": [
    "#决策树算法\n",
    "from sklearn.tree import DecisionTreeClassifier\n",
    "dtc=DecisionTreeClassifier()\n",
    "dtc.fit(train_x,train_y)\n",
    "#预测\n",
    "y_pred=dtc.predict(test_x)\n",
    "#计算准确率\n",
    "from sklearn.metrics import accuracy_score\n",
    "print(accuracy_score(test_y,y_pred))\n",
    "#计算召回率\n",
    "from sklearn.metrics import recall_score\n",
    "print(recall_score(test_y,y_pred,average='macro'))\n",
    "#计算精确率\n",
    "from sklearn.metrics import precision_score\n",
    "print(precision_score(test_y,y_pred,average='macro'))\n"
   ]
  },
  {
   "cell_type": "code",
   "execution_count": 59,
   "metadata": {},
   "outputs": [
    {
     "name": "stderr",
     "output_type": "stream",
     "text": [
      "c:\\Users\\weixiabing\\.virtualenvs\\Python-learning-cWMyDobr\\lib\\site-packages\\sklearn\\utils\\validation.py:1143: DataConversionWarning: A column-vector y was passed when a 1d array was expected. Please change the shape of y to (n_samples, ), for example using ravel().\n",
      "  y = column_or_1d(y, warn=True)\n"
     ]
    },
    {
     "name": "stdout",
     "output_type": "stream",
     "text": [
      "0.6817224900809268\n",
      "0.611537286095602\n",
      "0.7410793969475695\n"
     ]
    }
   ],
   "source": [
    "#朴素贝叶斯\n",
    "from sklearn.naive_bayes import GaussianNB\n",
    "gnb=GaussianNB()\n",
    "gnb.fit(train_x,train_y)\n",
    "#预测\n",
    "y_pred=gnb.predict(test_x)\n",
    "#计算准确率\n",
    "from sklearn.metrics import accuracy_score\n",
    "print(accuracy_score(test_y,y_pred))\n",
    "#计算召回率\n",
    "from sklearn.metrics import recall_score\n",
    "print(recall_score(test_y,y_pred,average='macro'))\n",
    "#计算精确率\n",
    "from sklearn.metrics import precision_score\n",
    "print(precision_score(test_y,y_pred,average='macro'))\n"
   ]
  }
 ],
 "metadata": {
  "kernelspec": {
   "display_name": "Python-learning-cWMyDobr",
   "language": "python",
   "name": "python3"
  },
  "language_info": {
   "codemirror_mode": {
    "name": "ipython",
    "version": 3
   },
   "file_extension": ".py",
   "mimetype": "text/x-python",
   "name": "python",
   "nbconvert_exporter": "python",
   "pygments_lexer": "ipython3",
   "version": "3.8.6"
  },
  "orig_nbformat": 4
 },
 "nbformat": 4,
 "nbformat_minor": 2
}

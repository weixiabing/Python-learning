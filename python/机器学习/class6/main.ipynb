{
 "cells": [
  {
   "cell_type": "code",
   "execution_count": 1,
   "metadata": {},
   "outputs": [],
   "source": [
    "import numpy as np\n",
    "from os import listdir\n",
    "from sklearn.neural_network import MLPClassifier "
   ]
  },
  {
   "cell_type": "code",
   "execution_count": 2,
   "metadata": {},
   "outputs": [],
   "source": [
    "def readDataSet(path):\n",
    "    fileList = listdir(path) #获取文件夹下的所有文件\n",
    "    numFiles = len(fileList) #统计需要读取的文件的数目\n",
    "    featureList = [] #用于存放所有的特征值\n",
    "    labelList = [] #用于存放所有的标签\n",
    "    for i in range(numFiles):\n",
    "        filePath = fileList[i] #获取文件名称/路径\n",
    "        digit = int(filePath.split('_')[0]) #通过文件名获取标签\n",
    "        labelList.append(digit) #将标签存储到列表中\n",
    "        with open(path + '/' + filePath) as f:\n",
    "            content = f.read() #读取文件内容\n",
    "            #除去文件中的换行符\n",
    "            content = content.replace('\\n', '')\n",
    "            #将文件内容转换成数字列表\n",
    "            content = list(map(int, content))\n",
    "            featureList.append(content) #将特征值存储到列表中\n",
    "    dataSet = np.array(featureList) #将特征值列表转换成NumPy数组\n",
    "    hwLabels = np.eye(10)[labelList] #将标签列表进行one-hot编码\n",
    "    return dataSet, hwLabels\n"
   ]
  },
  {
   "cell_type": "code",
   "execution_count": 3,
   "metadata": {},
   "outputs": [
    {
     "name": "stdout",
     "output_type": "stream",
     "text": [
      "(1934, 1024)\n",
      "(1934, 10)\n",
      "(946, 1024)\n",
      "(946, 10)\n"
     ]
    }
   ],
   "source": [
    "#读取训练集\n",
    "train_dataSet, train_hwLabels = readDataSet('./digits/trainingDigits')\n",
    "#读取测试集\n",
    "test_dataSet, test_hwLabels = readDataSet('./digits/testDigits')\n",
    "\n",
    "#查看形状\n",
    "print(train_dataSet.shape)\n",
    "print(train_hwLabels.shape)\n",
    "print(test_dataSet.shape)\n",
    "print(test_hwLabels.shape)"
   ]
  },
  {
   "cell_type": "code",
   "execution_count": 4,
   "metadata": {},
   "outputs": [],
   "source": [
    "def evaluate_mlp(num_neurons, learning_rate, max_iter, train_dataSet, train_hwLabels, test_dataSet, test_hwLabels):\n",
    "    clf = MLPClassifier(hidden_layer_sizes=(num_neurons,),\n",
    "                        activation='relu',  # 使用修正线性单元函数\n",
    "                        solver='adam',  # 使用Adam优化算法\n",
    "                        learning_rate_init=learning_rate,  # 学习率初始值\n",
    "                        max_iter=max_iter)  # 最大迭代次数\n",
    "\n",
    "    clf.fit(train_dataSet, train_hwLabels)\n",
    "    res = clf.predict(test_dataSet)\n",
    "    error_num = 0                #统计预测错误的数目  \n",
    "    num = len(test_dataSet)      #测试集的数目  \n",
    "    for j in range(num):         #遍历预测结果  \n",
    "    #比较长度为10的数组，返回包含01的数组，0为不同，1为相同  \n",
    "    #若预测结果与真实结果相同，则10个数字全为1，否则不全为1  \n",
    "    #统计预测错误的数目  \n",
    "        if np.sum(res[j] == test_hwLabels[j]) < 10:  \n",
    "            error_num += 1\n",
    "\n",
    "    print('神经元个数:', num_neurons, '学习率:', learning_rate, '迭代次数:', max_iter, \n",
    "          '总数:', num, '错误数:', error_num, '错误率:', error_num / num)\n"
   ]
  },
  {
   "cell_type": "code",
   "execution_count": 5,
   "metadata": {},
   "outputs": [
    {
     "name": "stdout",
     "output_type": "stream",
     "text": [
      "神经元个数: 50 学习率: 0.01 迭代次数: 500 总数: 946 错误数: 61 错误率: 0.06448202959830866\n",
      "神经元个数: 50 学习率: 0.01 迭代次数: 1000 总数: 946 错误数: 51 错误率: 0.05391120507399577\n",
      "神经元个数: 50 学习率: 0.01 迭代次数: 2000 总数: 946 错误数: 49 错误率: 0.05179704016913319\n",
      "神经元个数: 50 学习率: 0.001 迭代次数: 500 总数: 946 错误数: 50 错误率: 0.052854122621564484\n",
      "神经元个数: 50 学习率: 0.001 迭代次数: 1000 总数: 946 错误数: 54 错误率: 0.05708245243128964\n",
      "神经元个数: 50 学习率: 0.001 迭代次数: 2000 总数: 946 错误数: 52 错误率: 0.05496828752642706\n"
     ]
    },
    
    {
     "name": "stdout",
     "output_type": "stream",
     "text": [
      "神经元个数: 50 学习率: 0.0001 迭代次数: 500 总数: 946 错误数: 53 错误率: 0.056025369978858354\n",
      "神经元个数: 50 学习率: 0.0001 迭代次数: 1000 总数: 946 错误数: 46 错误率: 0.048625792811839326\n",
      "神经元个数: 50 学习率: 0.0001 迭代次数: 2000 总数: 946 错误数: 46 错误率: 0.048625792811839326\n",
      "神经元个数: 100 学习率: 0.01 迭代次数: 500 总数: 946 错误数: 45 错误率: 0.04756871035940803\n",
      "神经元个数: 100 学习率: 0.01 迭代次数: 1000 总数: 946 错误数: 44 错误率: 0.046511627906976744\n",
      "神经元个数: 100 学习率: 0.01 迭代次数: 2000 总数: 946 错误数: 45 错误率: 0.04756871035940803\n",
      "神经元个数: 100 学习率: 0.001 迭代次数: 500 总数: 946 错误数: 47 错误率: 0.049682875264270614\n",
      "神经元个数: 100 学习率: 0.001 迭代次数: 1000 总数: 946 错误数: 42 错误率: 0.04439746300211417\n",
      "神经元个数: 100 学习率: 0.001 迭代次数: 2000 总数: 946 错误数: 45 错误率: 0.04756871035940803\n"
     ]
    },
    
    {
     "name": "stdout",
     "output_type": "stream",
     "text": [
      "神经元个数: 100 学习率: 0.0001 迭代次数: 500 总数: 946 错误数: 43 错误率: 0.045454545454545456\n",
      "神经元个数: 100 学习率: 0.0001 迭代次数: 1000 总数: 946 错误数: 49 错误率: 0.05179704016913319\n",
      "神经元个数: 100 学习率: 0.0001 迭代次数: 2000 总数: 946 错误数: 46 错误率: 0.048625792811839326\n",
      "神经元个数: 200 学习率: 0.01 迭代次数: 500 总数: 946 错误数: 44 错误率: 0.046511627906976744\n",
      "神经元个数: 200 学习率: 0.01 迭代次数: 1000 总数: 946 错误数: 43 错误率: 0.045454545454545456\n",
      "神经元个数: 200 学习率: 0.01 迭代次数: 2000 总数: 946 错误数: 42 错误率: 0.04439746300211417\n",
      "神经元个数: 200 学习率: 0.001 迭代次数: 500 总数: 946 错误数: 42 错误率: 0.04439746300211417\n",
      "神经元个数: 200 学习率: 0.001 迭代次数: 1000 总数: 946 错误数: 47 错误率: 0.049682875264270614\n",
      "神经元个数: 200 学习率: 0.001 迭代次数: 2000 总数: 946 错误数: 43 错误率: 0.045454545454545456\n",
      "神经元个数: 200 学习率: 0.0001 迭代次数: 500 总数: 946 错误数: 44 错误率: 0.046511627906976744\n",
      "神经元个数: 200 学习率: 0.0001 迭代次数: 1000 总数: 946 错误数: 44 错误率: 0.046511627906976744\n",
      "神经元个数: 200 学习率: 0.0001 迭代次数: 2000 总数: 946 错误数: 48 错误率: 0.0507399577167019\n"
     ]
    }
   ],
   "source": [
    "for num_neurons in [50, 100, 200]:\n",
    "    for learning_rate in [0.01, 0.001,0.0001 ]:\n",
    "        for max_iter in [500, 1000, 2000]:\n",
    "            evaluate_mlp(num_neurons, learning_rate, max_iter, train_dataSet, train_hwLabels, test_dataSet, test_hwLabels)"
   ]
  },
  {
   "cell_type": "code",
   "execution_count": 10,
   "metadata": {},
   "outputs": [
    {
     "name": "stdout",
     "output_type": "stream",
     "text": [
      "k值: 1 总数: 946 错误数: 13 错误率: 0.013742071881606765\n",
      "k值: 2 总数: 946 错误数: 30 错误率: 0.03171247357293869\n",
      "k值: 3 总数: 946 错误数: 13 错误率: 0.013742071881606765\n",
      "k值: 4 总数: 946 错误数: 25 错误率: 0.026427061310782242\n",
      "k值: 5 总数: 946 错误数: 20 错误率: 0.021141649048625793\n"
     ]
    }
   ],
   "source": [
    "#使用knn算法\n",
    "for j in range(1,6):\n",
    "    from sklearn.neighbors import KNeighborsClassifier\n",
    "    knn = KNeighborsClassifier(n_neighbors=j) #设置k值为3\n",
    "    knn.fit(train_dataSet,train_hwLabels) #训练knn分类器\n",
    "    res = knn.predict(test_dataSet) #对测试集进行预测\n",
    "    error_num = 0 #统计预测错误的数目\n",
    "    num = len(test_dataSet) #测试集的数目\n",
    "    for i in range(num):         #遍历预测结果\n",
    "        #比较长度为10的数组，返回包含01的数组，0为不同，1为相同\n",
    "        #若预测结果与真实结果相同，则10个数字全为1，否则不全为1\n",
    "        #统计预测错误的数目\n",
    "        if np.sum(res[i] == test_hwLabels[i]) < 10:\n",
    "            error_num += 1\n",
    "    print('k值:',j,\"总数:\", num, \"错误数:\", error_num, \"错误率:\", error_num / float(num))\n",
    "\n"
   ]
  }
 ],
 "metadata": {
  "kernelspec": {
   "display_name": "Python-learning-cWMyDobr",
   "language": "python",
   "name": "python3"
  },
  "language_info": {
   "codemirror_mode": {
    "name": "ipython",
    "version": 3
   },
   "file_extension": ".py",
   "mimetype": "text/x-python",
   "name": "python",
   "nbconvert_exporter": "python",
   "pygments_lexer": "ipython3",
   "version": "3.8.6"
  },
  "orig_nbformat": 4
 },
 "nbformat": 4,
 "nbformat_minor": 2
}

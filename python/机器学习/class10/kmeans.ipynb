{
 "cells": [
  {
   "cell_type": "code",
   "execution_count": 2,
   "metadata": {},
   "outputs": [],
   "source": [
    "import numpy as np\n",
    "from PIL import Image\n",
    "from sklearn.cluster import KMeans\n",
    "import matplotlib.pyplot as plt"
   ]
  },
  {
   "cell_type": "code",
   "execution_count": 3,
   "metadata": {},
   "outputs": [],
   "source": [
    "# 以二进制形式打开文件,获取图片的大小,将每个像素点的RGB颜色处理到0-1范围内并存入data矩阵\n",
    "def loadData(filePath):\n",
    "    f = open(filePath, 'rb')\n",
    "    data = []\n",
    "    img = Image.open(f)  # 以列表形式返回图片像素值\n",
    "    m, n = img.size  # 获取图片的大小\n",
    "    for i in range(m):\n",
    "        for j in range(n):  # 将每个像素点的RGB颜色处理到0-1范围内并存入data矩阵\n",
    "            x, y, z = img.getpixel((i, j))\n",
    "            data.append([x/256.0, y/256.0, z/256.0])\n",
    "    f.close()\n",
    "    return np.array(data), m, n"
   ]
  },
  {
   "cell_type": "code",
   "execution_count": 4,
   "metadata": {},
   "outputs": [
    {
     "name": "stderr",
     "output_type": "stream",
     "text": [
      "c:\\Users\\weixiabing\\.virtualenvs\\Python-learning-cWMyDobr\\lib\\site-packages\\sklearn\\cluster\\_kmeans.py:870: FutureWarning: The default value of `n_init` will change from 10 to 'auto' in 1.4. Set the value of `n_init` explicitly to suppress the warning\n",
      "  warnings.warn(\n"
     ]
    }
   ],
   "source": [
    "imgData, row, col = loadData('bull.jpg')\n",
    "# print(imgData, row, col)\n",
    "label = KMeans(n_clusters=3).fit_predict(imgData)\n",
    "# 聚类获得每个像素所属的类别\n",
    "label = label.reshape([row, col])  # 二维列表\n",
    "# print(label)\n",
    "pic_new = Image.new(\"L\", (row, col))  # 创建一张新的灰度图保存聚类后的效果\n",
    "for i in range(row):  # i，j为图片像素，例如 640*480.   根据所属类别向图片中添加灰度值\n",
    "    for j in range(col):\n",
    "        pic_new.putpixel((i, j), int(256/(label[i][j]+1)))\n",
    "pic_new.save(\"result-bull.jpg\", \"JPEG\")\n"
   ]
  }
 ],
 "metadata": {
  "kernelspec": {
   "display_name": "Python-learning-cWMyDobr",
   "language": "python",
   "name": "python3"
  },
  "language_info": {
   "codemirror_mode": {
    "name": "ipython",
    "version": 3
   },
   "file_extension": ".py",
   "mimetype": "text/x-python",
   "name": "python",
   "nbconvert_exporter": "python",
   "pygments_lexer": "ipython3",
   "version": "3.8.6"
  },
  "orig_nbformat": 4
 },
 "nbformat": 4,
 "nbformat_minor": 2
}

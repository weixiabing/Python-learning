{
 "cells": [
  {
   "cell_type": "code",
   "execution_count": 50,
   "metadata": {},
   "outputs": [],
   "source": [
    "import numpy as np\n",
    "import pandas as pd "
   ]
  },
  {
   "cell_type": "code",
   "execution_count": 51,
   "metadata": {},
   "outputs": [
    {
     "data": {
      "text/html": [
       "<div>\n",
       "<style scoped>\n",
       "    .dataframe tbody tr th:only-of-type {\n",
       "        vertical-align: middle;\n",
       "    }\n",
       "\n",
       "    .dataframe tbody tr th {\n",
       "        vertical-align: top;\n",
       "    }\n",
       "\n",
       "    .dataframe thead th {\n",
       "        text-align: right;\n",
       "    }\n",
       "</style>\n",
       "<table border=\"1\" class=\"dataframe\">\n",
       "  <thead>\n",
       "    <tr style=\"text-align: right;\">\n",
       "      <th></th>\n",
       "      <th>日期</th>\n",
       "      <th>收盘</th>\n",
       "      <th>开盘</th>\n",
       "      <th>高</th>\n",
       "      <th>低</th>\n",
       "      <th>交易量</th>\n",
       "      <th>涨跌幅</th>\n",
       "    </tr>\n",
       "  </thead>\n",
       "  <tbody>\n",
       "    <tr>\n",
       "      <th>0</th>\n",
       "      <td>2021年4月16日</td>\n",
       "      <td>3,426.62</td>\n",
       "      <td>3,407.19</td>\n",
       "      <td>3,432.63</td>\n",
       "      <td>3,394.13</td>\n",
       "      <td>25.86</td>\n",
       "      <td>0.81%</td>\n",
       "    </tr>\n",
       "    <tr>\n",
       "      <th>1</th>\n",
       "      <td>2021年4月15日</td>\n",
       "      <td>3,398.99</td>\n",
       "      <td>3,409.61</td>\n",
       "      <td>3,409.61</td>\n",
       "      <td>3,373.09</td>\n",
       "      <td>23.4</td>\n",
       "      <td>-0.52%</td>\n",
       "    </tr>\n",
       "    <tr>\n",
       "      <th>2</th>\n",
       "      <td>2021年4月14日</td>\n",
       "      <td>3,416.72</td>\n",
       "      <td>3,397.02</td>\n",
       "      <td>3,420.03</td>\n",
       "      <td>3,392.98</td>\n",
       "      <td>23.32</td>\n",
       "      <td>0.60%</td>\n",
       "    </tr>\n",
       "    <tr>\n",
       "      <th>3</th>\n",
       "      <td>2021年4月13日</td>\n",
       "      <td>3,396.47</td>\n",
       "      <td>3,411.29</td>\n",
       "      <td>3,425.39</td>\n",
       "      <td>3,387.90</td>\n",
       "      <td>27.06</td>\n",
       "      <td>-0.48%</td>\n",
       "    </tr>\n",
       "    <tr>\n",
       "      <th>4</th>\n",
       "      <td>2021年4月12日</td>\n",
       "      <td>3,412.95</td>\n",
       "      <td>3,445.97</td>\n",
       "      <td>3,456.16</td>\n",
       "      <td>3,403.90</td>\n",
       "      <td>30.96</td>\n",
       "      <td>-1.09%</td>\n",
       "    </tr>\n",
       "  </tbody>\n",
       "</table>\n",
       "</div>"
      ],
      "text/plain": [
       "           日期        收盘        开盘         高         低    交易量     涨跌幅\n",
       "0  2021年4月16日  3,426.62  3,407.19  3,432.63  3,394.13  25.86   0.81%\n",
       "1  2021年4月15日  3,398.99  3,409.61  3,409.61  3,373.09   23.4  -0.52%\n",
       "2  2021年4月14日  3,416.72  3,397.02  3,420.03  3,392.98  23.32   0.60%\n",
       "3  2021年4月13日  3,396.47  3,411.29  3,425.39  3,387.90  27.06  -0.48%\n",
       "4  2021年4月12日  3,412.95  3,445.97  3,456.16  3,403.90  30.96  -1.09%"
      ]
     },
     "execution_count": 51,
     "metadata": {},
     "output_type": "execute_result"
    }
   ],
   "source": [
    "#导入csv数据\n",
    "data = pd.read_csv('data1.csv',encoding='gbk')\n",
    "data.head()\n"
   ]
  },
  {
   "cell_type": "code",
   "execution_count": 52,
   "metadata": {},
   "outputs": [
    {
     "name": "stdout",
     "output_type": "stream",
     "text": [
      "(7411, 5)\n"
     ]
    }
   ],
   "source": [
    "#按照日期降序排序\n",
    "data.sort_index(axis=0,ascending=True,inplace=True)\n",
    "#选取 5列数据作为特征：收盘价 列数据作为特征：收盘价 最高价 最低价 开盘价 成交量\n",
    "data=data[['收盘','高','低','开盘','交易量']]\n",
    "print(data.shape)"
   ]
  },
  {
   "cell_type": "code",
   "execution_count": 53,
   "metadata": {},
   "outputs": [
    {
     "name": "stdout",
     "output_type": "stream",
     "text": [
      "         收盘         高         低        开盘    交易量\n",
      "0  3,426.62  3,432.63  3,394.13  3,407.19  25.86\n",
      "1  3,398.99  3,409.61  3,373.09  3,409.61   23.4\n",
      "2  3,416.72  3,420.03  3,392.98  3,397.02  23.32\n",
      "3  3,396.47  3,425.39  3,387.90  3,411.29  27.06\n",
      "4  3,412.95  3,456.16  3,403.90  3,445.97  30.96\n"
     ]
    }
   ],
   "source": [
    "print(data.head())"
   ]
  },
  {
   "cell_type": "code",
   "execution_count": 54,
   "metadata": {},
   "outputs": [
    {
     "name": "stdout",
     "output_type": "stream",
     "text": [
      "(7411, 5)\n"
     ]
    }
   ],
   "source": [
    "#如果收盘价为0，剔除该行数据\n",
    "data=data[data['收盘']!=0]\n",
    "#删除nan数据\n",
    "data=data.dropna()\n",
    "print(data.shape)"
   ]
  },
  {
   "cell_type": "code",
   "execution_count": 55,
   "metadata": {},
   "outputs": [],
   "source": [
    "#dayfeature：选取 100 天的数据\n",
    "#featurenum：选取的 5个特征 *天数\n",
    "#x：记录 100 天的 5个特征值\n",
    "#y：记录涨或者 跌\n",
    "dayfeature=100\n",
    "featurenum=5*dayfeature\n",
    "x=np.zeros((data.shape[0]-dayfeature,featurenum+1))\n",
    "y=np.zeros((data.shape[0]-dayfeature))\n",
    "\n"
   ]
  },
  {
   "cell_type": "code",
   "execution_count": 68,
   "metadata": {},
   "outputs": [],
   "source": [
    "def remove_commas(array):\n",
    "    new_array = [item.replace(',', '') for item in array]\n",
    "    return new_array\n",
    "data=data.apply(remove_commas)\n",
    "#删除交易量为'-'的行\n",
    "data=data[data['交易量']!='-']\n"
   ]
  },
  {
   "cell_type": "code",
   "execution_count": 69,
   "metadata": {},
   "outputs": [],
   "source": [
    "for i in range(0,data.shape[0]-dayfeature):\n",
    "    x[i,0:featurenum]=np.array(data[i:i+dayfeature] \\\n",
    "    [[ '收盘','高','低','开盘','交易量']]).reshape((1,featurenum))\n",
    "    #最后一列记录当天的开盘价\n",
    "    x[i,featurenum]=data.iloc[i+dayfeature]['开盘']\n",
    "for i in range(0,data.shape[0]-dayfeature):\n",
    "    #如果当天收盘价高于开盘价，用1代表涨，0代表跌\n",
    "    if data.iloc[i+dayfeature]['收盘']>=data.iloc[i+dayfeature]['开盘']:\n",
    "        y[i]=1\n",
    "    else:\n",
    "        y[i]=0\n",
    "\n"
   ]
  },
  {
   "cell_type": "code",
   "execution_count": 71,
   "metadata": {},
   "outputs": [
    {
     "name": "stdout",
     "output_type": "stream",
     "text": [
      "SVM分类的正确率（每次交叉验证的结果）为:\n",
      "[0.5994531784005468, 0.5933014354066986, 0.6124401913875598, 0.605604921394395, 0.6090225563909775, 0.5905673274094326, 0.6117566643882434, 0.6308954203691046, 0.579630895420369, 0.5830485304169515]\n"
     ]
    }
   ],
   "source": [
    "#创建SVM，并进行10折交叉验证\n",
    "from sklearn import svm\n",
    "from sklearn import model_selection\n",
    "clf=svm.SVC(kernel='rbf',C=1.0,gamma='auto')\n",
    "result=[]\n",
    "for i in range(10):\n",
    "    #x和y的验证集 和测试，切分为8:2的测试集\n",
    "    x_train,x_test,y_train,y_test=model_selection.train_test_split(x,y,test_size=0.2)\n",
    "    #训练数据进行训练\n",
    "    clf.fit(x_train,y_train)\n",
    "    #将预测数据和测试集的验证数据做对比\n",
    "    result.append(np.mean(y_test==clf.predict(x_test)))\n",
    "print(\"SVM分类的正确率（每次交叉验证的结果）为:\")\n",
    "print(result)"
   ]
  }
 ],
 "metadata": {
  "kernelspec": {
   "display_name": "Innovative-practice-HHChy52D",
   "language": "python",
   "name": "python3"
  },
  "language_info": {
   "codemirror_mode": {
    "name": "ipython",
    "version": 3
   },
   "file_extension": ".py",
   "mimetype": "text/x-python",
   "name": "python",
   "nbconvert_exporter": "python",
   "pygments_lexer": "ipython3",
   "version": "3.8.6"
  },
  "orig_nbformat": 4
 },
 "nbformat": 4,
 "nbformat_minor": 2
}

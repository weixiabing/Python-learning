{
 "cells": [
  {
   "cell_type": "markdown",
   "metadata": {},
   "source": [
    "浅拷贝：在另一块地址中创建一个新的变量或容器，但是容器内的元素的地址均是源对象的元素的地址的拷贝<br />\n",
    "深拷贝：在另一块地址中创建一个新的变量或容器，同时容器内的元素的地址也是新开辟的，仅仅是值相同而已，是完全的副本"
   ]
  },
  {
   "cell_type": "code",
   "execution_count": 13,
   "metadata": {},
   "outputs": [
    {
     "name": "stdout",
     "output_type": "stream",
     "text": [
      "2046133675008\n",
      "2046133719616\n",
      "2046133719360\n",
      "2046133722176\n",
      "2046133722176\n",
      "2046133676928\n"
     ]
    }
   ],
   "source": [
    "import copy\n",
    "list1=[1,4,[2,3]] \n",
    "list2=list1.copy()\n",
    "list3=copy.deepcopy(list1)\n",
    "print(id(list1)) \n",
    "print(id(list2)) \n",
    "print(id(list3))\n",
    "print(id(list1[2])) \n",
    "print(id(list2[2]))\n",
    "print(id(list3[2]))"
   ]
  },
  {
   "cell_type": "code",
   "execution_count": 24,
   "metadata": {},
   "outputs": [
    {
     "name": "stdout",
     "output_type": "stream",
     "text": [
      "[0, 1, 2, 3, 4, 5, 6, 7, 8, 9]\n",
      "[2, 3, 0, 1, 6, 7, 4, 5, 10, 11]\n",
      "[5, 6, 7, 8, 9]\n"
     ]
    }
   ],
   "source": [
    "#三种生成式\n",
    "list1=[i for i in range(10)] #生成指定范围的数值列表\n",
    "list2=[x^2 for x in range(10)] #根据列表生成指定需求的列表\n",
    "list3=[x for x in list1 if int(x)>4] #根据列表生成指定需求的列表\n",
    "print(list1)\n",
    "print(list2)\n",
    "print(list3)"
   ]
  },
  {
   "cell_type": "code",
   "execution_count": 26,
   "metadata": {},
   "outputs": [
    {
     "name": "stdout",
     "output_type": "stream",
     "text": [
      "[[0, 1, 2, 3, 4, 5, 6, 7, 8, 9], [0, 1, 2, 3, 4, 5, 6, 7, 8, 9], [0, 1, 2, 3, 4, 5, 6, 7, 8, 9], [0, 1, 2, 3, 4, 5, 6, 7, 8, 9], [0, 1, 2, 3, 4, 5, 6, 7, 8, 9], [0, 1, 2, 3, 4, 5, 6, 7, 8, 9], [0, 1, 2, 3, 4, 5, 6, 7, 8, 9], [0, 1, 2, 3, 4, 5, 6, 7, 8, 9], [0, 1, 2, 3, 4, 5, 6, 7, 8, 9], [0, 1, 2, 3, 4, 5, 6, 7, 8, 9]]\n"
     ]
    }
   ],
   "source": [
    "#创建一个二维列表\n",
    "list1=[[i for i in range(10)] for x in range(10)]\n",
    "print(list1)"
   ]
  }
 ],
 "metadata": {
  "interpreter": {
   "hash": "c2f549fe5019ed324addec44774e73e6604d80f1196e48cd0f4957fe19ed7b06"
  },
  "kernelspec": {
   "display_name": "Python 3.8.6 ('Python-learning-cWMyDobr')",
   "language": "python",
   "name": "python3"
  },
  "language_info": {
   "codemirror_mode": {
    "name": "ipython",
    "version": 3
   },
   "file_extension": ".py",
   "mimetype": "text/x-python",
   "name": "python",
   "nbconvert_exporter": "python",
   "pygments_lexer": "ipython3",
   "version": "3.8.6"
  },
  "orig_nbformat": 4
 },
 "nbformat": 4,
 "nbformat_minor": 2
}

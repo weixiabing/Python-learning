{
 "cells": [
  {
   "cell_type": "code",
   "execution_count": 1,
   "metadata": {
    "collapsed": true
   },
   "outputs": [],
   "source": [
    "import datetime"
   ]
  },
  {
   "cell_type": "code",
   "execution_count": 2,
   "metadata": {},
   "outputs": [
    {
     "data": {
      "text/plain": [
       "datetime.date(2018, 3, 2)"
      ]
     },
     "execution_count": 2,
     "metadata": {},
     "output_type": "execute_result"
    }
   ],
   "source": [
    "date = datetime.date(2018, 3, 2)\n",
    "date"
   ]
  },
  {
   "cell_type": "code",
   "execution_count": 3,
   "metadata": {},
   "outputs": [
    {
     "data": {
      "text/plain": [
       "2018"
      ]
     },
     "execution_count": 3,
     "metadata": {},
     "output_type": "execute_result"
    }
   ],
   "source": [
    "date.year"
   ]
  },
  {
   "cell_type": "code",
   "execution_count": 4,
   "metadata": {},
   "outputs": [
    {
     "data": {
      "text/plain": [
       "2"
      ]
     },
     "execution_count": 4,
     "metadata": {},
     "output_type": "execute_result"
    }
   ],
   "source": [
    "date.day"
   ]
  },
  {
   "cell_type": "code",
   "execution_count": 5,
   "metadata": {},
   "outputs": [
    {
     "data": {
      "text/plain": [
       "datetime.time(9, 10, 34)"
      ]
     },
     "execution_count": 5,
     "metadata": {},
     "output_type": "execute_result"
    }
   ],
   "source": [
    "time = datetime.time(9, 10, 34)\n",
    "time"
   ]
  },
  {
   "cell_type": "code",
   "execution_count": 6,
   "metadata": {},
   "outputs": [
    {
     "data": {
      "text/plain": [
       "(9, 10, 34)"
      ]
     },
     "execution_count": 6,
     "metadata": {},
     "output_type": "execute_result"
    }
   ],
   "source": [
    "time.hour, time.minute, time.second"
   ]
  },
  {
   "cell_type": "code",
   "execution_count": 7,
   "metadata": {},
   "outputs": [
    {
     "data": {
      "text/plain": [
       "datetime.datetime(2018, 4, 15, 12, 19, 54, 65488)"
      ]
     },
     "execution_count": 7,
     "metadata": {},
     "output_type": "execute_result"
    }
   ],
   "source": [
    "now = datetime.datetime.now()\n",
    "now"
   ]
  },
  {
   "cell_type": "code",
   "execution_count": 8,
   "metadata": {},
   "outputs": [
    {
     "data": {
      "text/plain": [
       "datetime.timedelta(41, 11274, 65488)"
      ]
     },
     "execution_count": 8,
     "metadata": {},
     "output_type": "execute_result"
    }
   ],
   "source": [
    "delta = now - datetime.datetime(2018, 3, 5, 9, 12)\n",
    "delta"
   ]
  },
  {
   "cell_type": "code",
   "execution_count": 9,
   "metadata": {},
   "outputs": [
    {
     "data": {
      "text/plain": [
       "datetime.datetime(2018, 4, 15, 12, 19, 54, 65488)"
      ]
     },
     "execution_count": 9,
     "metadata": {},
     "output_type": "execute_result"
    }
   ],
   "source": [
    "now"
   ]
  },
  {
   "cell_type": "code",
   "execution_count": 10,
   "metadata": {},
   "outputs": [
    {
     "data": {
      "text/plain": [
       "datetime.datetime(2018, 4, 25, 12, 19, 54, 65488)"
      ]
     },
     "execution_count": 10,
     "metadata": {},
     "output_type": "execute_result"
    }
   ],
   "source": [
    "now + datetime.timedelta(10)"
   ]
  },
  {
   "cell_type": "code",
   "execution_count": 11,
   "metadata": {},
   "outputs": [
    {
     "data": {
      "text/plain": [
       "datetime.datetime(2018, 5, 12, 0, 0)"
      ]
     },
     "execution_count": 11,
     "metadata": {},
     "output_type": "execute_result"
    }
   ],
   "source": [
    "from datetime import datetime\n",
    "stamp = datetime(2018, 5, 12)\n",
    "stamp"
   ]
  },
  {
   "cell_type": "code",
   "execution_count": 12,
   "metadata": {},
   "outputs": [
    {
     "data": {
      "text/plain": [
       "'2018-05-12 00:00:00'"
      ]
     },
     "execution_count": 12,
     "metadata": {},
     "output_type": "execute_result"
    }
   ],
   "source": [
    "str(stamp)"
   ]
  },
  {
   "cell_type": "code",
   "execution_count": 13,
   "metadata": {},
   "outputs": [
    {
     "data": {
      "text/plain": [
       "'2018/05/12'"
      ]
     },
     "execution_count": 13,
     "metadata": {},
     "output_type": "execute_result"
    }
   ],
   "source": [
    "stamp.strftime('%Y/%m/%d')"
   ]
  },
  {
   "cell_type": "code",
   "execution_count": 14,
   "metadata": {},
   "outputs": [
    {
     "data": {
      "text/plain": [
       "'19'"
      ]
     },
     "execution_count": 14,
     "metadata": {},
     "output_type": "execute_result"
    }
   ],
   "source": [
    "stamp.strftime('%W')"
   ]
  },
  {
   "cell_type": "code",
   "execution_count": 15,
   "metadata": {
    "collapsed": true
   },
   "outputs": [],
   "source": [
    "value = '2018-4-12'"
   ]
  },
  {
   "cell_type": "code",
   "execution_count": 16,
   "metadata": {},
   "outputs": [
    {
     "data": {
      "text/plain": [
       "datetime.datetime(2018, 4, 12, 0, 0)"
      ]
     },
     "execution_count": 16,
     "metadata": {},
     "output_type": "execute_result"
    }
   ],
   "source": [
    "datetime.strptime(value, '%Y-%m-%d')"
   ]
  },
  {
   "cell_type": "code",
   "execution_count": 17,
   "metadata": {},
   "outputs": [
    {
     "data": {
      "text/html": [
       "<div>\n",
       "<style>\n",
       "    .dataframe thead tr:only-child th {\n",
       "        text-align: right;\n",
       "    }\n",
       "\n",
       "    .dataframe thead th {\n",
       "        text-align: left;\n",
       "    }\n",
       "\n",
       "    .dataframe tbody tr th {\n",
       "        vertical-align: top;\n",
       "    }\n",
       "</style>\n",
       "<table border=\"1\" class=\"dataframe\">\n",
       "  <thead>\n",
       "    <tr style=\"text-align: right;\">\n",
       "      <th></th>\n",
       "      <th>Name</th>\n",
       "      <th>JobTitle</th>\n",
       "      <th>AgencyID</th>\n",
       "      <th>Agency</th>\n",
       "      <th>HireDate</th>\n",
       "      <th>AnnualSalary</th>\n",
       "      <th>GrossPay</th>\n",
       "    </tr>\n",
       "  </thead>\n",
       "  <tbody>\n",
       "    <tr>\n",
       "      <th>0</th>\n",
       "      <td>Aaron,Patricia G</td>\n",
       "      <td>Facilities/Office Services II</td>\n",
       "      <td>A03031</td>\n",
       "      <td>OED-Employment Dev (031)</td>\n",
       "      <td>10/24/1979 12:00:00 AM</td>\n",
       "      <td>$56705.00</td>\n",
       "      <td>$54135.44</td>\n",
       "    </tr>\n",
       "    <tr>\n",
       "      <th>1</th>\n",
       "      <td>Aaron,Petra L</td>\n",
       "      <td>ASSISTANT STATE'S ATTORNEY</td>\n",
       "      <td>A29045</td>\n",
       "      <td>States Attorneys Office (045)</td>\n",
       "      <td>09/25/2006 12:00:00 AM</td>\n",
       "      <td>$75500.00</td>\n",
       "      <td>$72445.87</td>\n",
       "    </tr>\n",
       "    <tr>\n",
       "      <th>2</th>\n",
       "      <td>Abbey,Emmanuel</td>\n",
       "      <td>CONTRACT SERV SPEC II</td>\n",
       "      <td>A40001</td>\n",
       "      <td>M-R Info Technology (001)</td>\n",
       "      <td>05/01/2013 12:00:00 AM</td>\n",
       "      <td>$60060.00</td>\n",
       "      <td>$59602.58</td>\n",
       "    </tr>\n",
       "    <tr>\n",
       "      <th>3</th>\n",
       "      <td>Abbott-Cole,Michelle</td>\n",
       "      <td>Operations Officer III</td>\n",
       "      <td>A90005</td>\n",
       "      <td>TRANS-Traffic (005)</td>\n",
       "      <td>11/28/2014 12:00:00 AM</td>\n",
       "      <td>$70000.00</td>\n",
       "      <td>$59517.21</td>\n",
       "    </tr>\n",
       "    <tr>\n",
       "      <th>4</th>\n",
       "      <td>Abdal-Rahim,Naim A</td>\n",
       "      <td>EMT Firefighter Suppression</td>\n",
       "      <td>A64120</td>\n",
       "      <td>Fire Department (120)</td>\n",
       "      <td>03/30/2011 12:00:00 AM</td>\n",
       "      <td>$64365.00</td>\n",
       "      <td>$74770.82</td>\n",
       "    </tr>\n",
       "  </tbody>\n",
       "</table>\n",
       "</div>"
      ],
      "text/plain": [
       "                   Name                       JobTitle AgencyID  \\\n",
       "0      Aaron,Patricia G  Facilities/Office Services II   A03031   \n",
       "1         Aaron,Petra L     ASSISTANT STATE'S ATTORNEY   A29045   \n",
       "2        Abbey,Emmanuel          CONTRACT SERV SPEC II   A40001   \n",
       "3  Abbott-Cole,Michelle         Operations Officer III   A90005   \n",
       "4    Abdal-Rahim,Naim A    EMT Firefighter Suppression   A64120   \n",
       "\n",
       "                          Agency                HireDate AnnualSalary  \\\n",
       "0       OED-Employment Dev (031)  10/24/1979 12:00:00 AM    $56705.00   \n",
       "1  States Attorneys Office (045)  09/25/2006 12:00:00 AM    $75500.00   \n",
       "2      M-R Info Technology (001)  05/01/2013 12:00:00 AM    $60060.00   \n",
       "3            TRANS-Traffic (005)  11/28/2014 12:00:00 AM    $70000.00   \n",
       "4          Fire Department (120)  03/30/2011 12:00:00 AM    $64365.00   \n",
       "\n",
       "    GrossPay  \n",
       "0  $54135.44  \n",
       "1  $72445.87  \n",
       "2  $59602.58  \n",
       "3  $59517.21  \n",
       "4  $74770.82  "
      ]
     },
     "execution_count": 17,
     "metadata": {},
     "output_type": "execute_result"
    }
   ],
   "source": [
    "import pandas as pd\n",
    "salary = pd.read_csv(open('H:\\python数据分析\\数据\\Baltimore_City_Employee_Salaries_FY2016.csv'))\n",
    "salary.head()"
   ]
  },
  {
   "cell_type": "code",
   "execution_count": 18,
   "metadata": {},
   "outputs": [
    {
     "data": {
      "text/plain": [
       "str"
      ]
     },
     "execution_count": 18,
     "metadata": {},
     "output_type": "execute_result"
    }
   ],
   "source": [
    "type(salary['HireDate'][0])"
   ]
  },
  {
   "cell_type": "code",
   "execution_count": 19,
   "metadata": {},
   "outputs": [
    {
     "data": {
      "text/html": [
       "<div>\n",
       "<style>\n",
       "    .dataframe thead tr:only-child th {\n",
       "        text-align: right;\n",
       "    }\n",
       "\n",
       "    .dataframe thead th {\n",
       "        text-align: left;\n",
       "    }\n",
       "\n",
       "    .dataframe tbody tr th {\n",
       "        vertical-align: top;\n",
       "    }\n",
       "</style>\n",
       "<table border=\"1\" class=\"dataframe\">\n",
       "  <thead>\n",
       "    <tr style=\"text-align: right;\">\n",
       "      <th></th>\n",
       "      <th>Name</th>\n",
       "      <th>JobTitle</th>\n",
       "      <th>AgencyID</th>\n",
       "      <th>Agency</th>\n",
       "      <th>HireDate</th>\n",
       "      <th>AnnualSalary</th>\n",
       "      <th>GrossPay</th>\n",
       "    </tr>\n",
       "  </thead>\n",
       "  <tbody>\n",
       "    <tr>\n",
       "      <th>0</th>\n",
       "      <td>Aaron,Patricia G</td>\n",
       "      <td>Facilities/Office Services II</td>\n",
       "      <td>A03031</td>\n",
       "      <td>OED-Employment Dev (031)</td>\n",
       "      <td>1979-10-24</td>\n",
       "      <td>$56705.00</td>\n",
       "      <td>$54135.44</td>\n",
       "    </tr>\n",
       "    <tr>\n",
       "      <th>1</th>\n",
       "      <td>Aaron,Petra L</td>\n",
       "      <td>ASSISTANT STATE'S ATTORNEY</td>\n",
       "      <td>A29045</td>\n",
       "      <td>States Attorneys Office (045)</td>\n",
       "      <td>2006-09-25</td>\n",
       "      <td>$75500.00</td>\n",
       "      <td>$72445.87</td>\n",
       "    </tr>\n",
       "    <tr>\n",
       "      <th>2</th>\n",
       "      <td>Abbey,Emmanuel</td>\n",
       "      <td>CONTRACT SERV SPEC II</td>\n",
       "      <td>A40001</td>\n",
       "      <td>M-R Info Technology (001)</td>\n",
       "      <td>2013-05-01</td>\n",
       "      <td>$60060.00</td>\n",
       "      <td>$59602.58</td>\n",
       "    </tr>\n",
       "    <tr>\n",
       "      <th>3</th>\n",
       "      <td>Abbott-Cole,Michelle</td>\n",
       "      <td>Operations Officer III</td>\n",
       "      <td>A90005</td>\n",
       "      <td>TRANS-Traffic (005)</td>\n",
       "      <td>2014-11-28</td>\n",
       "      <td>$70000.00</td>\n",
       "      <td>$59517.21</td>\n",
       "    </tr>\n",
       "    <tr>\n",
       "      <th>4</th>\n",
       "      <td>Abdal-Rahim,Naim A</td>\n",
       "      <td>EMT Firefighter Suppression</td>\n",
       "      <td>A64120</td>\n",
       "      <td>Fire Department (120)</td>\n",
       "      <td>2011-03-30</td>\n",
       "      <td>$64365.00</td>\n",
       "      <td>$74770.82</td>\n",
       "    </tr>\n",
       "  </tbody>\n",
       "</table>\n",
       "</div>"
      ],
      "text/plain": [
       "                   Name                       JobTitle AgencyID  \\\n",
       "0      Aaron,Patricia G  Facilities/Office Services II   A03031   \n",
       "1         Aaron,Petra L     ASSISTANT STATE'S ATTORNEY   A29045   \n",
       "2        Abbey,Emmanuel          CONTRACT SERV SPEC II   A40001   \n",
       "3  Abbott-Cole,Michelle         Operations Officer III   A90005   \n",
       "4    Abdal-Rahim,Naim A    EMT Firefighter Suppression   A64120   \n",
       "\n",
       "                          Agency   HireDate AnnualSalary   GrossPay  \n",
       "0       OED-Employment Dev (031) 1979-10-24    $56705.00  $54135.44  \n",
       "1  States Attorneys Office (045) 2006-09-25    $75500.00  $72445.87  \n",
       "2      M-R Info Technology (001) 2013-05-01    $60060.00  $59602.58  \n",
       "3            TRANS-Traffic (005) 2014-11-28    $70000.00  $59517.21  \n",
       "4          Fire Department (120) 2011-03-30    $64365.00  $74770.82  "
      ]
     },
     "execution_count": 19,
     "metadata": {},
     "output_type": "execute_result"
    }
   ],
   "source": [
    "salary['HireDate'] = pd.to_datetime(salary['HireDate'])\n",
    "salary.head()"
   ]
  },
  {
   "cell_type": "code",
   "execution_count": 20,
   "metadata": {},
   "outputs": [
    {
     "data": {
      "text/plain": [
       "pandas._libs.tslib.Timestamp"
      ]
     },
     "execution_count": 20,
     "metadata": {},
     "output_type": "execute_result"
    }
   ],
   "source": [
    "type(salary['HireDate'][0])"
   ]
  },
  {
   "cell_type": "code",
   "execution_count": 21,
   "metadata": {
    "collapsed": true
   },
   "outputs": [],
   "source": [
    "from datetime import datetime\n",
    "import numpy as np\n",
    "import pandas as pd"
   ]
  },
  {
   "cell_type": "code",
   "execution_count": 22,
   "metadata": {
    "collapsed": true
   },
   "outputs": [],
   "source": [
    "date = [datetime(2018, 4, 1), datetime(2018, 4, 5),\n",
    "       datetime(2018, 4, 7), datetime(2018, 4, 9),\n",
    "       datetime(2018, 4, 10), datetime(2018, 4, 15)]"
   ]
  },
  {
   "cell_type": "code",
   "execution_count": 23,
   "metadata": {},
   "outputs": [
    {
     "data": {
      "text/plain": [
       "2018-04-01    0\n",
       "2018-04-05    1\n",
       "2018-04-07    2\n",
       "2018-04-09    3\n",
       "2018-04-10    4\n",
       "2018-04-15    5\n",
       "dtype: int32"
      ]
     },
     "execution_count": 23,
     "metadata": {},
     "output_type": "execute_result"
    }
   ],
   "source": [
    "s = pd.Series(np.arange(6),index=date)\n",
    "s"
   ]
  },
  {
   "cell_type": "code",
   "execution_count": 24,
   "metadata": {},
   "outputs": [
    {
     "data": {
      "text/plain": [
       "pandas.core.series.Series"
      ]
     },
     "execution_count": 24,
     "metadata": {},
     "output_type": "execute_result"
    }
   ],
   "source": [
    "type(s)"
   ]
  },
  {
   "cell_type": "code",
   "execution_count": 25,
   "metadata": {},
   "outputs": [
    {
     "data": {
      "text/plain": [
       "DatetimeIndex(['2018-04-01', '2018-04-05', '2018-04-07', '2018-04-09',\n",
       "               '2018-04-10', '2018-04-15'],\n",
       "              dtype='datetime64[ns]', freq=None)"
      ]
     },
     "execution_count": 25,
     "metadata": {},
     "output_type": "execute_result"
    }
   ],
   "source": [
    "s.index"
   ]
  },
  {
   "cell_type": "code",
   "execution_count": 26,
   "metadata": {},
   "outputs": [
    {
     "data": {
      "text/plain": [
       "2018-04-01    0\n",
       "2018-04-07    2\n",
       "2018-04-10    4\n",
       "dtype: int32"
      ]
     },
     "execution_count": 26,
     "metadata": {},
     "output_type": "execute_result"
    }
   ],
   "source": [
    "s[::2]"
   ]
  },
  {
   "cell_type": "code",
   "execution_count": 27,
   "metadata": {},
   "outputs": [
    {
     "data": {
      "text/plain": [
       "2018-04-01    0.0\n",
       "2018-04-05    NaN\n",
       "2018-04-07    4.0\n",
       "2018-04-09    NaN\n",
       "2018-04-10    8.0\n",
       "2018-04-15    NaN\n",
       "dtype: float64"
      ]
     },
     "execution_count": 27,
     "metadata": {},
     "output_type": "execute_result"
    }
   ],
   "source": [
    "s + s[::2]"
   ]
  },
  {
   "cell_type": "code",
   "execution_count": 28,
   "metadata": {},
   "outputs": [
    {
     "data": {
      "text/plain": [
       "Timestamp('2018-04-01 00:00:00')"
      ]
     },
     "execution_count": 28,
     "metadata": {},
     "output_type": "execute_result"
    }
   ],
   "source": [
    "s.index[0]"
   ]
  },
  {
   "cell_type": "code",
   "execution_count": 29,
   "metadata": {},
   "outputs": [
    {
     "data": {
      "text/plain": [
       "2018-04-01    0\n",
       "2018-04-05    1\n",
       "2018-04-07    2\n",
       "2018-04-09    3\n",
       "2018-04-10    4\n",
       "2018-04-15    5\n",
       "dtype: int32"
      ]
     },
     "execution_count": 29,
     "metadata": {},
     "output_type": "execute_result"
    }
   ],
   "source": [
    "s"
   ]
  },
  {
   "cell_type": "code",
   "execution_count": 30,
   "metadata": {},
   "outputs": [
    {
     "data": {
      "text/plain": [
       "2"
      ]
     },
     "execution_count": 30,
     "metadata": {},
     "output_type": "execute_result"
    }
   ],
   "source": [
    "s[2]"
   ]
  },
  {
   "cell_type": "code",
   "execution_count": 31,
   "metadata": {},
   "outputs": [
    {
     "data": {
      "text/plain": [
       "5"
      ]
     },
     "execution_count": 31,
     "metadata": {},
     "output_type": "execute_result"
    }
   ],
   "source": [
    "s['20180415']"
   ]
  },
  {
   "cell_type": "code",
   "execution_count": 32,
   "metadata": {},
   "outputs": [
    {
     "data": {
      "text/plain": [
       "0"
      ]
     },
     "execution_count": 32,
     "metadata": {},
     "output_type": "execute_result"
    }
   ],
   "source": [
    "s['2018/4/1']"
   ]
  },
  {
   "cell_type": "code",
   "execution_count": 33,
   "metadata": {},
   "outputs": [
    {
     "data": {
      "text/plain": [
       "2018-04-01    0\n",
       "2018-04-05    1\n",
       "2018-04-07    2\n",
       "2018-04-09    3\n",
       "2018-04-10    4\n",
       "2018-04-15    5\n",
       "dtype: int32"
      ]
     },
     "execution_count": 33,
     "metadata": {},
     "output_type": "execute_result"
    }
   ],
   "source": [
    "s"
   ]
  },
  {
   "cell_type": "code",
   "execution_count": 34,
   "metadata": {},
   "outputs": [
    {
     "data": {
      "text/plain": [
       "2018-04-07    2\n",
       "2018-04-09    3\n",
       "2018-04-10    4\n",
       "dtype: int32"
      ]
     },
     "execution_count": 34,
     "metadata": {},
     "output_type": "execute_result"
    }
   ],
   "source": [
    "s[2:5]"
   ]
  },
  {
   "cell_type": "code",
   "execution_count": 35,
   "metadata": {},
   "outputs": [
    {
     "data": {
      "text/plain": [
       "2018-04-05    1\n",
       "2018-04-07    2\n",
       "2018-04-09    3\n",
       "2018-04-10    4\n",
       "dtype: int32"
      ]
     },
     "execution_count": 35,
     "metadata": {},
     "output_type": "execute_result"
    }
   ],
   "source": [
    "s['2018/4/5':'2018/4/11']"
   ]
  },
  {
   "cell_type": "code",
   "execution_count": 36,
   "metadata": {},
   "outputs": [
    {
     "data": {
      "text/plain": [
       "2018-04-07    2\n",
       "2018-04-09    3\n",
       "2018-04-10    4\n",
       "2018-04-15    5\n",
       "dtype: int32"
      ]
     },
     "execution_count": 36,
     "metadata": {},
     "output_type": "execute_result"
    }
   ],
   "source": [
    "s[datetime(2018, 4, 7):]"
   ]
  },
  {
   "cell_type": "code",
   "execution_count": 37,
   "metadata": {
    "collapsed": true
   },
   "outputs": [],
   "source": [
    "date2 = [datetime(2018, 4, 1), datetime(2018, 4, 5),\n",
    "       datetime(2018, 4, 13), datetime(2018, 4, 27),\n",
    "       datetime(2018, 9, 4), datetime(2018, 9, 8),\n",
    "       datetime(2018, 9, 12), datetime(2018, 9, 23),\n",
    "       datetime(2019, 3, 12), datetime(2019, 3, 27),\n",
    "       datetime(2019, 6, 7), datetime(2019, 6, 17)]"
   ]
  },
  {
   "cell_type": "code",
   "execution_count": 38,
   "metadata": {},
   "outputs": [
    {
     "data": {
      "text/plain": [
       "2018-04-01     0\n",
       "2018-04-05     1\n",
       "2018-04-13     2\n",
       "2018-04-27     3\n",
       "2018-09-04     4\n",
       "2018-09-08     5\n",
       "2018-09-12     6\n",
       "2018-09-23     7\n",
       "2019-03-12     8\n",
       "2019-03-27     9\n",
       "2019-06-07    10\n",
       "2019-06-17    11\n",
       "dtype: int32"
      ]
     },
     "execution_count": 38,
     "metadata": {},
     "output_type": "execute_result"
    }
   ],
   "source": [
    "long_s = pd.Series(np.arange(12),index=date2)\n",
    "long_s"
   ]
  },
  {
   "cell_type": "code",
   "execution_count": 39,
   "metadata": {},
   "outputs": [
    {
     "data": {
      "text/plain": [
       "2019-03-12     8\n",
       "2019-03-27     9\n",
       "2019-06-07    10\n",
       "2019-06-17    11\n",
       "dtype: int32"
      ]
     },
     "execution_count": 39,
     "metadata": {},
     "output_type": "execute_result"
    }
   ],
   "source": [
    "long_s['2019']"
   ]
  },
  {
   "cell_type": "code",
   "execution_count": 40,
   "metadata": {},
   "outputs": [
    {
     "data": {
      "text/plain": [
       "2018-09-04    4\n",
       "2018-09-08    5\n",
       "2018-09-12    6\n",
       "2018-09-23    7\n",
       "dtype: int32"
      ]
     },
     "execution_count": 40,
     "metadata": {},
     "output_type": "execute_result"
    }
   ],
   "source": [
    "long_s['2018-9']"
   ]
  },
  {
   "cell_type": "code",
   "execution_count": 41,
   "metadata": {
    "collapsed": true
   },
   "outputs": [],
   "source": [
    "date3 = pd.DatetimeIndex(['2018/4/14', '2018/4/14',\n",
    "                        '2018/5/23', '2018/5/23',\n",
    "                        '2018/6/13', '2018/6,13'])"
   ]
  },
  {
   "cell_type": "code",
   "execution_count": 42,
   "metadata": {},
   "outputs": [
    {
     "data": {
      "text/plain": [
       "2018-04-14    0\n",
       "2018-04-14    1\n",
       "2018-05-23    2\n",
       "2018-05-23    3\n",
       "2018-06-13    4\n",
       "2018-06-13    5\n",
       "dtype: int32"
      ]
     },
     "execution_count": 42,
     "metadata": {},
     "output_type": "execute_result"
    }
   ],
   "source": [
    "dup_s = pd.Series(np.arange(6), index=date3)\n",
    "dup_s"
   ]
  },
  {
   "cell_type": "code",
   "execution_count": 43,
   "metadata": {},
   "outputs": [
    {
     "data": {
      "text/plain": [
       "False"
      ]
     },
     "execution_count": 43,
     "metadata": {},
     "output_type": "execute_result"
    }
   ],
   "source": [
    "dup_s.index.is_unique"
   ]
  },
  {
   "cell_type": "code",
   "execution_count": 44,
   "metadata": {},
   "outputs": [
    {
     "data": {
      "text/plain": [
       "2018-05-23    2\n",
       "2018-05-23    3\n",
       "dtype: int32"
      ]
     },
     "execution_count": 44,
     "metadata": {},
     "output_type": "execute_result"
    }
   ],
   "source": [
    "dup_s['20180523']"
   ]
  },
  {
   "cell_type": "code",
   "execution_count": 45,
   "metadata": {},
   "outputs": [
    {
     "data": {
      "text/plain": [
       "2018-04-14    0.5\n",
       "2018-05-23    2.5\n",
       "2018-06-13    4.5\n",
       "dtype: float64"
      ]
     },
     "execution_count": 45,
     "metadata": {},
     "output_type": "execute_result"
    }
   ],
   "source": [
    "dup_s.groupby(level=0).mean()"
   ]
  },
  {
   "cell_type": "code",
   "execution_count": 46,
   "metadata": {},
   "outputs": [
    {
     "data": {
      "text/plain": [
       "2018-04-14    1\n",
       "2018-05-23    5\n",
       "2018-06-13    9\n",
       "dtype: int32"
      ]
     },
     "execution_count": 46,
     "metadata": {},
     "output_type": "execute_result"
    }
   ],
   "source": [
    "dup_s.groupby(level=0).sum()"
   ]
  },
  {
   "cell_type": "code",
   "execution_count": 47,
   "metadata": {},
   "outputs": [
    {
     "data": {
      "text/plain": [
       "DatetimeIndex(['2018-04-01', '2018-04-02', '2018-04-03', '2018-04-04',\n",
       "               '2018-04-05', '2018-04-06', '2018-04-07', '2018-04-08',\n",
       "               '2018-04-09', '2018-04-10', '2018-04-11', '2018-04-12',\n",
       "               '2018-04-13', '2018-04-14', '2018-04-15', '2018-04-16',\n",
       "               '2018-04-17', '2018-04-18', '2018-04-19', '2018-04-20',\n",
       "               '2018-04-21', '2018-04-22', '2018-04-23', '2018-04-24',\n",
       "               '2018-04-25', '2018-04-26', '2018-04-27', '2018-04-28',\n",
       "               '2018-04-29', '2018-04-30', '2018-05-01', '2018-05-02',\n",
       "               '2018-05-03', '2018-05-04', '2018-05-05', '2018-05-06',\n",
       "               '2018-05-07', '2018-05-08', '2018-05-09', '2018-05-10',\n",
       "               '2018-05-11', '2018-05-12', '2018-05-13', '2018-05-14',\n",
       "               '2018-05-15', '2018-05-16', '2018-05-17', '2018-05-18',\n",
       "               '2018-05-19', '2018-05-20', '2018-05-21', '2018-05-22',\n",
       "               '2018-05-23', '2018-05-24', '2018-05-25', '2018-05-26',\n",
       "               '2018-05-27', '2018-05-28', '2018-05-29', '2018-05-30'],\n",
       "              dtype='datetime64[ns]', freq='D')"
      ]
     },
     "execution_count": 47,
     "metadata": {},
     "output_type": "execute_result"
    }
   ],
   "source": [
    "index = pd.date_range('2018/4/1', '2018/5/30')\n",
    "index"
   ]
  },
  {
   "cell_type": "code",
   "execution_count": 48,
   "metadata": {},
   "outputs": [
    {
     "data": {
      "text/plain": [
       "DatetimeIndex(['2018-04-30', '2018-05-31', '2018-06-30', '2018-07-31',\n",
       "               '2018-08-31', '2018-09-30', '2018-10-31', '2018-11-30',\n",
       "               '2018-12-31'],\n",
       "              dtype='datetime64[ns]', freq='M')"
      ]
     },
     "execution_count": 48,
     "metadata": {},
     "output_type": "execute_result"
    }
   ],
   "source": [
    "index = pd.date_range('2018/4/1', '2018/12/31', freq='M')\n",
    "index"
   ]
  },
  {
   "cell_type": "code",
   "execution_count": 49,
   "metadata": {},
   "outputs": [
    {
     "data": {
      "text/plain": [
       "DatetimeIndex(['2018-04-01', '2018-04-02', '2018-04-03', '2018-04-04',\n",
       "               '2018-04-05', '2018-04-06', '2018-04-07', '2018-04-08',\n",
       "               '2018-04-09', '2018-04-10', '2018-04-11', '2018-04-12',\n",
       "               '2018-04-13', '2018-04-14', '2018-04-15', '2018-04-16',\n",
       "               '2018-04-17', '2018-04-18', '2018-04-19', '2018-04-20'],\n",
       "              dtype='datetime64[ns]', freq='D')"
      ]
     },
     "execution_count": 49,
     "metadata": {},
     "output_type": "execute_result"
    }
   ],
   "source": [
    "pd.date_range(start = '2018/4/1', periods=20)"
   ]
  },
  {
   "cell_type": "code",
   "execution_count": 50,
   "metadata": {},
   "outputs": [
    {
     "data": {
      "text/plain": [
       "DatetimeIndex(['2018-05-13', '2018-05-14', '2018-05-15', '2018-05-16',\n",
       "               '2018-05-17', '2018-05-18', '2018-05-19', '2018-05-20',\n",
       "               '2018-05-21', '2018-05-22', '2018-05-23', '2018-05-24',\n",
       "               '2018-05-25', '2018-05-26', '2018-05-27', '2018-05-28',\n",
       "               '2018-05-29', '2018-05-30', '2018-05-31', '2018-06-01'],\n",
       "              dtype='datetime64[ns]', freq='D')"
      ]
     },
     "execution_count": 50,
     "metadata": {},
     "output_type": "execute_result"
    }
   ],
   "source": [
    "pd.date_range(end = '2018/6/1', periods=20)"
   ]
  },
  {
   "cell_type": "code",
   "execution_count": 51,
   "metadata": {},
   "outputs": [
    {
     "data": {
      "text/plain": [
       "DatetimeIndex(['2018-06-01 15:11:34', '2018-06-02 15:11:34',\n",
       "               '2018-06-03 15:11:34', '2018-06-04 15:11:34',\n",
       "               '2018-06-05 15:11:34', '2018-06-06 15:11:34',\n",
       "               '2018-06-07 15:11:34', '2018-06-08 15:11:34',\n",
       "               '2018-06-09 15:11:34', '2018-06-10 15:11:34'],\n",
       "              dtype='datetime64[ns]', freq='D')"
      ]
     },
     "execution_count": 51,
     "metadata": {},
     "output_type": "execute_result"
    }
   ],
   "source": [
    "pd.date_range(start = '2018/6/1 15:11:34', periods=10)"
   ]
  },
  {
   "cell_type": "code",
   "execution_count": 52,
   "metadata": {},
   "outputs": [
    {
     "data": {
      "text/plain": [
       "DatetimeIndex(['2018-06-01', '2018-06-02', '2018-06-03', '2018-06-04',\n",
       "               '2018-06-05', '2018-06-06', '2018-06-07', '2018-06-08',\n",
       "               '2018-06-09', '2018-06-10'],\n",
       "              dtype='datetime64[ns]', freq='D')"
      ]
     },
     "execution_count": 52,
     "metadata": {},
     "output_type": "execute_result"
    }
   ],
   "source": [
    "pd.date_range(start = '2018/6/1 15:11:34', periods=10, normalize=True)"
   ]
  },
  {
   "cell_type": "code",
   "execution_count": 53,
   "metadata": {},
   "outputs": [
    {
     "data": {
      "text/plain": [
       "DatetimeIndex(['2018-04-01 00:00:00', '2018-04-01 04:00:00',\n",
       "               '2018-04-01 08:00:00', '2018-04-01 12:00:00',\n",
       "               '2018-04-01 16:00:00', '2018-04-01 20:00:00',\n",
       "               '2018-04-02 00:00:00', '2018-04-02 04:00:00',\n",
       "               '2018-04-02 08:00:00', '2018-04-02 12:00:00'],\n",
       "              dtype='datetime64[ns]', freq='4H')"
      ]
     },
     "execution_count": 53,
     "metadata": {},
     "output_type": "execute_result"
    }
   ],
   "source": [
    "pd.date_range(start = '2018/4/1', periods=10, freq='4H')"
   ]
  },
  {
   "cell_type": "code",
   "execution_count": 54,
   "metadata": {},
   "outputs": [
    {
     "data": {
      "text/plain": [
       "DatetimeIndex(['2018-04-01 00:00:00', '2018-04-01 02:20:38',\n",
       "               '2018-04-01 04:41:16', '2018-04-01 07:01:54',\n",
       "               '2018-04-01 09:22:32', '2018-04-01 11:43:10',\n",
       "               '2018-04-01 14:03:48', '2018-04-01 16:24:26',\n",
       "               '2018-04-01 18:45:04', '2018-04-01 21:05:42',\n",
       "               '2018-04-01 23:26:20', '2018-04-02 01:46:58',\n",
       "               '2018-04-02 04:07:36', '2018-04-02 06:28:14',\n",
       "               '2018-04-02 08:48:52', '2018-04-02 11:09:30',\n",
       "               '2018-04-02 13:30:08', '2018-04-02 15:50:46',\n",
       "               '2018-04-02 18:11:24', '2018-04-02 20:32:02'],\n",
       "              dtype='datetime64[ns]', freq='8438S')"
      ]
     },
     "execution_count": 54,
     "metadata": {},
     "output_type": "execute_result"
    }
   ],
   "source": [
    "pd.date_range(start = '2018/4/1', periods=20, freq='2H20min38S')"
   ]
  },
  {
   "cell_type": "code",
   "execution_count": 55,
   "metadata": {},
   "outputs": [
    {
     "data": {
      "text/plain": [
       "2018-04-01    0\n",
       "2018-04-02    1\n",
       "2018-04-03    2\n",
       "2018-04-04    3\n",
       "2018-04-05    4\n",
       "Freq: D, dtype: int32"
      ]
     },
     "execution_count": 55,
     "metadata": {},
     "output_type": "execute_result"
    }
   ],
   "source": [
    "date4 = pd.date_range('2018/4/1', periods=5)\n",
    "s = pd.Series(np.arange(5), index=date4)\n",
    "s"
   ]
  },
  {
   "cell_type": "code",
   "execution_count": 56,
   "metadata": {},
   "outputs": [
    {
     "data": {
      "text/plain": [
       "2018-04-01    NaN\n",
       "2018-04-02    NaN\n",
       "2018-04-03    0.0\n",
       "2018-04-04    1.0\n",
       "2018-04-05    2.0\n",
       "Freq: D, dtype: float64"
      ]
     },
     "execution_count": 56,
     "metadata": {},
     "output_type": "execute_result"
    }
   ],
   "source": [
    "s.shift(2)"
   ]
  },
  {
   "cell_type": "code",
   "execution_count": 57,
   "metadata": {},
   "outputs": [
    {
     "data": {
      "text/plain": [
       "2018-04-01    2.0\n",
       "2018-04-02    3.0\n",
       "2018-04-03    4.0\n",
       "2018-04-04    NaN\n",
       "2018-04-05    NaN\n",
       "Freq: D, dtype: float64"
      ]
     },
     "execution_count": 57,
     "metadata": {},
     "output_type": "execute_result"
    }
   ],
   "source": [
    "s.shift(-2)"
   ]
  },
  {
   "cell_type": "code",
   "execution_count": 58,
   "metadata": {},
   "outputs": [
    {
     "data": {
      "text/plain": [
       "2018-04-03    0\n",
       "2018-04-04    1\n",
       "2018-04-05    2\n",
       "2018-04-06    3\n",
       "2018-04-07    4\n",
       "Freq: D, dtype: int32"
      ]
     },
     "execution_count": 58,
     "metadata": {},
     "output_type": "execute_result"
    }
   ],
   "source": [
    "s.shift(2,freq='D')"
   ]
  },
  {
   "cell_type": "code",
   "execution_count": 59,
   "metadata": {},
   "outputs": [
    {
     "data": {
      "text/plain": [
       "2018-05-31    0\n",
       "2018-05-31    1\n",
       "2018-05-31    2\n",
       "2018-05-31    3\n",
       "2018-05-31    4\n",
       "dtype: int32"
      ]
     },
     "execution_count": 59,
     "metadata": {},
     "output_type": "execute_result"
    }
   ],
   "source": [
    "s.shift(2, freq='M')"
   ]
  },
  {
   "cell_type": "code",
   "execution_count": 60,
   "metadata": {},
   "outputs": [
    {
     "data": {
      "text/plain": [
       "Period('2018', 'A-DEC')"
      ]
     },
     "execution_count": 60,
     "metadata": {},
     "output_type": "execute_result"
    }
   ],
   "source": [
    "p = pd.Period(2018, freq='A-DEC')\n",
    "p"
   ]
  },
  {
   "cell_type": "code",
   "execution_count": 61,
   "metadata": {},
   "outputs": [
    {
     "data": {
      "text/plain": [
       "Period('2020', 'A-DEC')"
      ]
     },
     "execution_count": 61,
     "metadata": {},
     "output_type": "execute_result"
    }
   ],
   "source": [
    "p + 2"
   ]
  },
  {
   "cell_type": "code",
   "execution_count": 62,
   "metadata": {},
   "outputs": [
    {
     "data": {
      "text/plain": [
       "Period('2013', 'A-DEC')"
      ]
     },
     "execution_count": 62,
     "metadata": {},
     "output_type": "execute_result"
    }
   ],
   "source": [
    "p - 5"
   ]
  },
  {
   "cell_type": "code",
   "execution_count": 63,
   "metadata": {},
   "outputs": [
    {
     "data": {
      "text/plain": [
       "7"
      ]
     },
     "execution_count": 63,
     "metadata": {},
     "output_type": "execute_result"
    }
   ],
   "source": [
    "pd.Period(2025, freq='A-DEC') - p"
   ]
  },
  {
   "cell_type": "code",
   "execution_count": 64,
   "metadata": {},
   "outputs": [
    {
     "data": {
      "text/plain": [
       "PeriodIndex(['2018-04', '2018-05', '2018-06', '2018-07', '2018-08', '2018-09',\n",
       "             '2018-10'],\n",
       "            dtype='period[M]', freq='M')"
      ]
     },
     "execution_count": 64,
     "metadata": {},
     "output_type": "execute_result"
    }
   ],
   "source": [
    "date5 = pd.period_range('2018/4/1', '2018/10/5', freq='M')\n",
    "date5"
   ]
  },
  {
   "cell_type": "code",
   "execution_count": 65,
   "metadata": {},
   "outputs": [
    {
     "data": {
      "text/plain": [
       "2018-04    0\n",
       "2018-05    1\n",
       "2018-06    2\n",
       "2018-07    3\n",
       "2018-08    4\n",
       "2018-09    5\n",
       "2018-10    6\n",
       "Freq: M, dtype: int32"
      ]
     },
     "execution_count": 65,
     "metadata": {},
     "output_type": "execute_result"
    }
   ],
   "source": [
    "pd.Series(np.arange(7),index=date5)"
   ]
  },
  {
   "cell_type": "code",
   "execution_count": 66,
   "metadata": {},
   "outputs": [
    {
     "data": {
      "text/plain": [
       "Period('2018', 'A-DEC')"
      ]
     },
     "execution_count": 66,
     "metadata": {},
     "output_type": "execute_result"
    }
   ],
   "source": [
    "p = pd.Period(2018, freq='A-DEC')\n",
    "p"
   ]
  },
  {
   "cell_type": "code",
   "execution_count": 67,
   "metadata": {},
   "outputs": [
    {
     "data": {
      "text/plain": [
       "Period('2018-01', 'M')"
      ]
     },
     "execution_count": 67,
     "metadata": {},
     "output_type": "execute_result"
    }
   ],
   "source": [
    "p.asfreq('M', how='start')"
   ]
  },
  {
   "cell_type": "code",
   "execution_count": 68,
   "metadata": {},
   "outputs": [
    {
     "data": {
      "text/plain": [
       "Period('2018-12', 'M')"
      ]
     },
     "execution_count": 68,
     "metadata": {},
     "output_type": "execute_result"
    }
   ],
   "source": [
    "p.asfreq('M', how='end')"
   ]
  },
  {
   "cell_type": "code",
   "execution_count": 69,
   "metadata": {},
   "outputs": [
    {
     "data": {
      "text/plain": [
       "Period('2018', 'A-JUN')"
      ]
     },
     "execution_count": 69,
     "metadata": {},
     "output_type": "execute_result"
    }
   ],
   "source": [
    "p = pd.Period(2018, freq='A-JUN')\n",
    "p"
   ]
  },
  {
   "cell_type": "code",
   "execution_count": 70,
   "metadata": {},
   "outputs": [
    {
     "data": {
      "text/plain": [
       "Period('2017-07', 'M')"
      ]
     },
     "execution_count": 70,
     "metadata": {},
     "output_type": "execute_result"
    }
   ],
   "source": [
    "p.asfreq('M', how='start')"
   ]
  },
  {
   "cell_type": "code",
   "execution_count": 71,
   "metadata": {},
   "outputs": [
    {
     "data": {
      "text/plain": [
       "Period('2018-06', 'M')"
      ]
     },
     "execution_count": 71,
     "metadata": {},
     "output_type": "execute_result"
    }
   ],
   "source": [
    "p.asfreq('M', how='end')"
   ]
  },
  {
   "cell_type": "code",
   "execution_count": 72,
   "metadata": {},
   "outputs": [
    {
     "data": {
      "text/plain": [
       "PeriodIndex(['2014', '2015', '2016', '2017', '2018'], dtype='period[A-DEC]', freq='A-DEC')"
      ]
     },
     "execution_count": 72,
     "metadata": {},
     "output_type": "execute_result"
    }
   ],
   "source": [
    "date6 = pd.period_range('2014', '2018', freq='A-DEC')\n",
    "date6"
   ]
  },
  {
   "cell_type": "code",
   "execution_count": 73,
   "metadata": {},
   "outputs": [
    {
     "data": {
      "text/plain": [
       "2014    0\n",
       "2015    1\n",
       "2016    2\n",
       "2017    3\n",
       "2018    4\n",
       "Freq: A-DEC, dtype: int32"
      ]
     },
     "execution_count": 73,
     "metadata": {},
     "output_type": "execute_result"
    }
   ],
   "source": [
    "ps = pd.Series(np.arange(5), index=date6)\n",
    "ps"
   ]
  },
  {
   "cell_type": "code",
   "execution_count": 74,
   "metadata": {},
   "outputs": [
    {
     "data": {
      "text/plain": [
       "2014-01    0\n",
       "2015-01    1\n",
       "2016-01    2\n",
       "2017-01    3\n",
       "2018-01    4\n",
       "Freq: M, dtype: int32"
      ]
     },
     "execution_count": 74,
     "metadata": {},
     "output_type": "execute_result"
    }
   ],
   "source": [
    "ps.asfreq('M', how='start')"
   ]
  },
  {
   "cell_type": "code",
   "execution_count": 75,
   "metadata": {},
   "outputs": [
    {
     "data": {
      "text/plain": [
       "2018-04-30    0\n",
       "2018-05-31    1\n",
       "2018-06-30    2\n",
       "2018-07-31    3\n",
       "Freq: M, dtype: int32"
      ]
     },
     "execution_count": 75,
     "metadata": {},
     "output_type": "execute_result"
    }
   ],
   "source": [
    "date7 = pd.date_range('2018/4/1', periods=4, freq='M')\n",
    "s = pd.Series(np.arange(4), index=date7)\n",
    "s"
   ]
  },
  {
   "cell_type": "code",
   "execution_count": 76,
   "metadata": {},
   "outputs": [
    {
     "data": {
      "text/plain": [
       "2018-04    0\n",
       "2018-05    1\n",
       "2018-06    2\n",
       "2018-07    3\n",
       "Freq: M, dtype: int32"
      ]
     },
     "execution_count": 76,
     "metadata": {},
     "output_type": "execute_result"
    }
   ],
   "source": [
    "ps = s.to_period()\n",
    "ps"
   ]
  },
  {
   "cell_type": "code",
   "execution_count": 77,
   "metadata": {},
   "outputs": [
    {
     "data": {
      "text/plain": [
       "2018    0\n",
       "2018    1\n",
       "2018    2\n",
       "2018    3\n",
       "Freq: A-DEC, dtype: int32"
      ]
     },
     "execution_count": 77,
     "metadata": {},
     "output_type": "execute_result"
    }
   ],
   "source": [
    "ps = s.to_period('A-DEC')\n",
    "ps"
   ]
  },
  {
   "cell_type": "code",
   "execution_count": 78,
   "metadata": {},
   "outputs": [
    {
     "data": {
      "text/plain": [
       "2018-04    0\n",
       "2018-05    1\n",
       "2018-06    2\n",
       "2018-07    3\n",
       "Freq: M, dtype: int32"
      ]
     },
     "execution_count": 78,
     "metadata": {},
     "output_type": "execute_result"
    }
   ],
   "source": [
    "ps = s.to_period()\n",
    "ps"
   ]
  },
  {
   "cell_type": "code",
   "execution_count": 79,
   "metadata": {},
   "outputs": [
    {
     "data": {
      "text/plain": [
       "2018-04-01    0\n",
       "2018-05-01    1\n",
       "2018-06-01    2\n",
       "2018-07-01    3\n",
       "Freq: MS, dtype: int32"
      ]
     },
     "execution_count": 79,
     "metadata": {},
     "output_type": "execute_result"
    }
   ],
   "source": [
    "ps.to_timestamp(how='start')"
   ]
  },
  {
   "cell_type": "code",
   "execution_count": 81,
   "metadata": {},
   "outputs": [
    {
     "data": {
      "text/plain": [
       "2018-04-01    0\n",
       "2018-04-02    1\n",
       "2018-04-03    2\n",
       "2018-04-04    3\n",
       "2018-04-05    4\n",
       "2018-04-06    5\n",
       "2018-04-07    6\n",
       "2018-04-08    7\n",
       "2018-04-09    8\n",
       "2018-04-10    9\n",
       "Freq: D, dtype: int32"
      ]
     },
     "execution_count": 81,
     "metadata": {},
     "output_type": "execute_result"
    }
   ],
   "source": [
    "date = pd.date_range(start = '2018/4/1', periods=100, freq='D')\n",
    "s = pd.Series(np.arange(100),index=date)\n",
    "s.head(10)"
   ]
  },
  {
   "cell_type": "code",
   "execution_count": 83,
   "metadata": {},
   "outputs": [
    {
     "data": {
      "text/plain": [
       "2018-04-30    14.5\n",
       "2018-05-31    45.0\n",
       "2018-06-30    75.5\n",
       "2018-07-31    95.0\n",
       "Freq: M, dtype: float64"
      ]
     },
     "execution_count": 83,
     "metadata": {},
     "output_type": "execute_result"
    }
   ],
   "source": [
    "s.resample('M').mean()"
   ]
  },
  {
   "cell_type": "code",
   "execution_count": 87,
   "metadata": {},
   "outputs": [
    {
     "data": {
      "text/plain": [
       "2018-04-01     0\n",
       "2018-04-02     1\n",
       "2018-04-03     2\n",
       "2018-04-04     3\n",
       "2018-04-05     4\n",
       "2018-04-06     5\n",
       "2018-04-07     6\n",
       "2018-04-08     7\n",
       "2018-04-09     8\n",
       "2018-04-10     9\n",
       "2018-04-11    10\n",
       "2018-04-12    11\n",
       "Freq: D, dtype: int32"
      ]
     },
     "execution_count": 87,
     "metadata": {},
     "output_type": "execute_result"
    }
   ],
   "source": [
    "date = pd.date_range(start = '2018/4/1', periods=12, freq='D')\n",
    "s = pd.Series(np.arange(12),index=date)\n",
    "s"
   ]
  },
  {
   "cell_type": "code",
   "execution_count": 92,
   "metadata": {},
   "outputs": [
    {
     "data": {
      "text/plain": [
       "2018-04-01     0\n",
       "2018-04-06    15\n",
       "2018-04-11    40\n",
       "2018-04-16    11\n",
       "Freq: 5D, dtype: int32"
      ]
     },
     "execution_count": 92,
     "metadata": {},
     "output_type": "execute_result"
    }
   ],
   "source": [
    "s.resample('5D', closed='right', label='right').sum()"
   ]
  },
  {
   "cell_type": "code",
   "execution_count": 93,
   "metadata": {},
   "outputs": [
    {
     "data": {
      "text/plain": [
       "2018-04-01    10\n",
       "2018-04-06    35\n",
       "2018-04-11    21\n",
       "Freq: 5D, dtype: int32"
      ]
     },
     "execution_count": 93,
     "metadata": {},
     "output_type": "execute_result"
    }
   ],
   "source": [
    "s.resample('5D', closed='left', label='left').sum()"
   ]
  },
  {
   "cell_type": "code",
   "execution_count": 94,
   "metadata": {},
   "outputs": [
    {
     "data": {
      "text/plain": [
       "2018-03-31     0\n",
       "2018-04-05    15\n",
       "2018-04-10    40\n",
       "2018-04-15    11\n",
       "Freq: 5D, dtype: int32"
      ]
     },
     "execution_count": 94,
     "metadata": {},
     "output_type": "execute_result"
    }
   ],
   "source": [
    "s.resample('5D', closed='right', label='right', loffset='-1D').sum()"
   ]
  },
  {
   "cell_type": "code",
   "execution_count": 101,
   "metadata": {},
   "outputs": [
    {
     "data": {
      "text/plain": [
       "2018-04-03    2\n",
       "2018-04-13    5\n",
       "dtype: int64"
      ]
     },
     "execution_count": 101,
     "metadata": {},
     "output_type": "execute_result"
    }
   ],
   "source": [
    "date = [datetime(2018,4,3), datetime(2018,4,13)]\n",
    "s = pd.Series([2, 5],index=date)\n",
    "s"
   ]
  },
  {
   "cell_type": "code",
   "execution_count": 103,
   "metadata": {},
   "outputs": [
    {
     "data": {
      "text/plain": [
       "2018-04-03    2\n",
       "2018-04-04    2\n",
       "2018-04-05    2\n",
       "2018-04-06    2\n",
       "2018-04-07    2\n",
       "2018-04-08    2\n",
       "2018-04-09    2\n",
       "2018-04-10    2\n",
       "2018-04-11    2\n",
       "2018-04-12    2\n",
       "2018-04-13    5\n",
       "Freq: D, dtype: int64"
      ]
     },
     "execution_count": 103,
     "metadata": {},
     "output_type": "execute_result"
    }
   ],
   "source": [
    "s.resample('D').ffill()"
   ]
  },
  {
   "cell_type": "code",
   "execution_count": 105,
   "metadata": {},
   "outputs": [
    {
     "data": {
      "text/plain": [
       "2018-04-03    2.0\n",
       "2018-04-04    2.0\n",
       "2018-04-05    2.0\n",
       "2018-04-06    NaN\n",
       "2018-04-07    NaN\n",
       "2018-04-08    NaN\n",
       "2018-04-09    NaN\n",
       "2018-04-10    NaN\n",
       "2018-04-11    NaN\n",
       "2018-04-12    NaN\n",
       "2018-04-13    5.0\n",
       "Freq: D, dtype: float64"
      ]
     },
     "execution_count": 105,
     "metadata": {},
     "output_type": "execute_result"
    }
   ],
   "source": [
    "s.resample('D').ffill(2)"
   ]
  },
  {
   "cell_type": "code",
   "execution_count": null,
   "metadata": {
    "collapsed": true
   },
   "outputs": [],
   "source": []
  }
 ],
 "metadata": {
  "kernelspec": {
   "display_name": "Python 3",
   "language": "python",
   "name": "python3"
  },
  "language_info": {
   "codemirror_mode": {
    "name": "ipython",
    "version": 3
   },
   "file_extension": ".py",
   "mimetype": "text/x-python",
   "name": "python",
   "nbconvert_exporter": "python",
   "pygments_lexer": "ipython3",
   "version": "3.6.3"
  }
 },
 "nbformat": 4,
 "nbformat_minor": 2
}

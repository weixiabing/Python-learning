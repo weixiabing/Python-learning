{
 "cells": [
  {
   "cell_type": "code",
   "execution_count": 15,
   "metadata": {},
   "outputs": [
    {
     "name": "stdout",
     "output_type": "stream",
     "text": [
      "['Pku', 'Tsinghua', 'Beijing', 'Shanghai']\n",
      "Pku\n",
      "['Pku', 'Tsinghua', 'Pku', 'Beijing', 'Shanghai', 'Pku']\n"
     ]
    }
   ],
   "source": [
    "list1=['Pku','Tsinghua','Beijing','Shanghai']\n",
    "list2='Pku'\n",
    "print(list1)\n",
    "print(list2)\n",
    "#list1.extend(list2) #拆开\n",
    "list1.append(list2) #只添加一个元素 list1作为整体添加到list2中\n",
    "list1.insert(2,list2) #插入单个元素\n",
    "print(list1)"
   ]
  },
  {
   "cell_type": "code",
   "execution_count": 9,
   "metadata": {},
   "outputs": [
    {
     "ename": "TypeError",
     "evalue": "'list' object is not callable",
     "output_type": "error",
     "traceback": [
      "\u001b[1;31m---------------------------------------------------------------------------\u001b[0m",
      "\u001b[1;31mTypeError\u001b[0m                                 Traceback (most recent call last)",
      "\u001b[1;32md:\\library\\Github\\Python-learning\\从0开始学数据分析\\8.ipynb Cell 2'\u001b[0m in \u001b[0;36m<module>\u001b[1;34m\u001b[0m\n\u001b[0;32m      <a href='vscode-notebook-cell:/d%3A/library/Github/Python-learning/%E4%BB%8E0%E5%BC%80%E5%A7%8B%E5%AD%A6%E6%95%B0%E6%8D%AE%E5%88%86%E6%9E%90/8.ipynb#ch0000001?line=0'>1</a>\u001b[0m \u001b[39m#删除列表重复元素\u001b[39;00m\n\u001b[0;32m      <a href='vscode-notebook-cell:/d%3A/library/Github/Python-learning/%E4%BB%8E0%E5%BC%80%E5%A7%8B%E5%AD%A6%E6%95%B0%E6%8D%AE%E5%88%86%E6%9E%90/8.ipynb#ch0000001?line=1'>2</a>\u001b[0m list1\u001b[39m=\u001b[39m[\u001b[39m1\u001b[39m,\u001b[39m2\u001b[39m,\u001b[39m2\u001b[39m,\u001b[39m3\u001b[39m,\u001b[39m3\u001b[39m,\u001b[39m3\u001b[39m,\u001b[39m4\u001b[39m,\u001b[39m5\u001b[39m,\u001b[39m2\u001b[39m,\u001b[39m3\u001b[39m,\u001b[39m5\u001b[39m]\n\u001b[1;32m----> <a href='vscode-notebook-cell:/d%3A/library/Github/Python-learning/%E4%BB%8E0%E5%BC%80%E5%A7%8B%E5%AD%A6%E6%95%B0%E6%8D%AE%E5%88%86%E6%9E%90/8.ipynb#ch0000001?line=2'>3</a>\u001b[0m list1\u001b[39m=\u001b[39m\u001b[39mlist\u001b[39;49m(\u001b[39mset\u001b[39;49m(list1))\n\u001b[0;32m      <a href='vscode-notebook-cell:/d%3A/library/Github/Python-learning/%E4%BB%8E0%E5%BC%80%E5%A7%8B%E5%AD%A6%E6%95%B0%E6%8D%AE%E5%88%86%E6%9E%90/8.ipynb#ch0000001?line=3'>4</a>\u001b[0m \u001b[39mprint\u001b[39m(list1)\n",
      "\u001b[1;31mTypeError\u001b[0m: 'list' object is not callable"
     ]
    }
   ],
   "source": [
    "#删除列表重复元素\n",
    "list1=[1,2,2,3,3,3,4,5,2,3,5]\n",
    "list1=list(set(list1))\n",
    "print(list1)\n"
   ]
  },
  {
   "cell_type": "code",
   "execution_count": 17,
   "metadata": {},
   "outputs": [
    {
     "name": "stdout",
     "output_type": "stream",
     "text": [
      "1882811382272\n",
      "1882811263616\n",
      "1882811536512\n",
      "1882811536512\n"
     ]
    }
   ],
   "source": [
    "a=[1]\n",
    "print(id(a))\n",
    "a=a+[2]\n",
    "print(id(a))\n",
    "\n",
    "s=[1]\n",
    "print(id(s))\n",
    "s+=[2]\n",
    "print(id(s))\n"
   ]
  },
  {
   "cell_type": "code",
   "execution_count": 1,
   "metadata": {},
   "outputs": [
    {
     "data": {
      "image/png": "[encoded data removed]",
      "text/plain": [
       "<Figure size 432x288 with 1 Axes>"
      ]
     },
     "metadata": {
      "needs_background": "light"
     },
     "output_type": "display_data"
    }
   ],
   "source": [
    "#绘制平滑曲线\n",
    "import numpy as np\n",
    "import matplotlib.pyplot as plt\n",
    "x=range(3,11)\n",
    "y=[51.2,57.6,60,63.2,65.6,68.8,69.6,70.4]\n",
    "plt.plot(x,y)\n",
    "plt.show()\n"
   ]
  }
 ],
 "metadata": {
  "interpreter": {
   "hash": "af21aacb7686a5c1f5155359da889360d5a2e60e075dbe3e1e8101b0d72ef29b"
  },
  "kernelspec": {
   "display_name": "Python 3.8.6 64-bit",
   "language": "python",
   "name": "python3"
  },
  "language_info": {
   "codemirror_mode": {
    "name": "ipython",
    "version": 3
   },
   "file_extension": ".py",
   "mimetype": "text/x-python",
   "name": "python",
   "nbconvert_exporter": "python",
   "pygments_lexer": "ipython3",
   "version": "3.8.6"
  },
  "orig_nbformat": 4
 },
 "nbformat": 4,
 "nbformat_minor": 2
}

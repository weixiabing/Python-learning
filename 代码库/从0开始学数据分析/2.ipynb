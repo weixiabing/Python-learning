{
 "cells": [
  {
   "cell_type": "code",
   "execution_count": 3,
   "metadata": {
    "collapsed": true
   },
   "outputs": [
    {
     "data": {
      "text/plain": [
       "68"
      ]
     },
     "execution_count": 3,
     "metadata": {},
     "output_type": "execute_result"
    }
   ],
   "source": [
    "#产生0-100随机数\n",
    "import random\n",
    "a=random.randint(0,100)\n",
    "a"
   ]
  },
  {
   "cell_type": "code",
   "execution_count": 4,
   "metadata": {},
   "outputs": [
    {
     "name": "stdout",
     "output_type": "stream",
     "text": [
      "引号是中文\n",
      "引号是中文\n",
      "引号是中文\n",
      "引号是中文\n",
      "引号是中文\n",
      "引号是中文\n",
      "引号是中文\n",
      "引号是中文\n",
      "引号是中文\n",
      "引号是中文\n"
     ]
    }
   ],
   "source": [
    "a='引号是中文'\n",
    "for i in range (10):\n",
    "    print(a)"
   ]
  },
  {
   "cell_type": "code",
   "execution_count": 5,
   "metadata": {},
   "outputs": [],
   "source": [
    "import numpy as np\n"
   ]
  },
  {
   "cell_type": "code",
   "execution_count": 8,
   "metadata": {},
   "outputs": [
    {
     "data": {
      "text/plain": [
       "dtype('int32')"
      ]
     },
     "execution_count": 8,
     "metadata": {},
     "output_type": "execute_result"
    }
   ],
   "source": [
    "data1=[5,7,9,20]\n",
    "arr1=np.array(data1)\n",
    "arr1.shape\n",
    "arr1.dtype\n"
   ]
  },
  {
   "cell_type": "code",
   "execution_count": 12,
   "metadata": {},
   "outputs": [
    {
     "data": {
      "text/plain": [
       "array([0, 1, 2, 3, 4, 5, 6, 7, 8, 9])"
      ]
     },
     "execution_count": 12,
     "metadata": {},
     "output_type": "execute_result"
    }
   ],
   "source": [
    "np.zeros(10)\n",
    "np.zeros((3,4))\n",
    "np.arange(10)"
   ]
  },
  {
   "cell_type": "code",
   "execution_count": 19,
   "metadata": {},
   "outputs": [
    {
     "name": "stdout",
     "output_type": "stream",
     "text": [
      "he 12\n",
      "12 he\n",
      "he 12 12\n"
     ]
    }
   ],
   "source": [
    "a,b=\"he\",12\n",
    "print(a,b)\n",
    "a,b=b,a\n",
    "print(a,b)\n",
    "c,a,b=a,b,a\n",
    "print(a,b,c)\n"
   ]
  },
  {
   "cell_type": "code",
   "execution_count": 25,
   "metadata": {},
   "outputs": [
    {
     "name": "stdout",
     "output_type": "stream",
     "text": [
      "i said:'hello'\n"
     ]
    }
   ],
   "source": [
    "x=\"i said:'hello'\"\n",
    "print(x)"
   ]
  },
  {
   "cell_type": "code",
   "execution_count": 31,
   "metadata": {},
   "outputs": [
    {
     "name": "stdout",
     "output_type": "stream",
     "text": [
      "1.75\n",
      "i am 1.75 m tall\n",
      "i am 1.75 m tall\n",
      "i am %f m tall\n"
     ]
    }
   ],
   "source": [
    "s=1.75\n",
    "print(s)\n",
    "print(\"i am \"+str(s)+\" m tall\")\n",
    "print(\"i am %s m tall\"%s)\n",
    "print(\"i am %f m tall\")"
   ]
  },
  {
   "cell_type": "code",
   "execution_count": 33,
   "metadata": {},
   "outputs": [
    {
     "name": "stdout",
     "output_type": "stream",
     "text": [
      " #多行字符串可以使用制表符TAB ( \t )。\n",
      "#也可以使用换行符[ \n",
      " ]。<HTML><HEAD><TITLE>\n",
      "Friends CGI Demo</TITLE></HEAD><BODY><H3>ERROR</H3><FORM><INPUT TYPE=button VALUE=Back\n"
     ]
    }
   ],
   "source": [
    "para_str =\"\"\" #多行字符串可以使用制表符TAB ( \\t )。\n",
    "#也可以使用换行符[ \\n ]。<HTML><HEAD><TITLE>\n",
    "Friends CGI Demo</TITLE></HEAD><BODY><H3>ERROR</H3><FORM><INPUT TYPE=button VALUE=Back\"\"\"\n",
    "print (para_str)"
   ]
  },
  {
   "cell_type": "code",
   "execution_count": null,
   "metadata": {},
   "outputs": [],
   "source": []
  }
 ],
 "metadata": {
  "kernelspec": {
   "display_name": "Python 3",
   "language": "python",
   "name": "python3"
  },
  "language_info": {
   "codemirror_mode": {
    "name": "ipython",
    "version": 3
   },
   "file_extension": ".py",
   "mimetype": "text/x-python",
   "name": "python",
   "nbconvert_exporter": "python",
   "pygments_lexer": "ipython3",
   "version": "3.8.6"
  }
 },
 "nbformat": 4,
 "nbformat_minor": 0
}
